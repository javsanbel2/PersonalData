{
 "cells": [
  {
   "cell_type": "code",
   "execution_count": 1,
   "metadata": {},
   "outputs": [],
   "source": [
    "from kafka import KafkaProducer,KafkaClient\n",
    "from kafka.errors import KafkaError\n",
    "import time\n",
    "import json\n",
    "import websocket\n",
    "import logging\n",
    "import re\n",
    "#LOCAL IMPORTS\n",
    "import config as myCred\n",
    "from confluent_kafka.admin import AdminClient\n",
    "import hashlib"
   ]
  },
  {
   "cell_type": "code",
   "execution_count": 2,
   "metadata": {},
   "outputs": [],
   "source": [
    "logging.basicConfig(filename=\"logFile.log\", level=logging.INFO)"
   ]
  },
  {
   "cell_type": "code",
   "execution_count": 3,
   "metadata": {},
   "outputs": [],
   "source": [
    "#unit test to check if zookeeper an kafka are running properly\n",
    "conf = {'bootstrap.servers':'localhost:9092'}\n",
    "admin_client = AdminClient(conf)\n",
    "topics = admin_client.list_topics().topics\n",
    "if not topics: \n",
    "    logging.error(RuntimeError())\n",
    "else:\n",
    "    logging.info(topics)"
   ]
  },
  {
   "cell_type": "code",
   "execution_count": 4,
   "metadata": {},
   "outputs": [],
   "source": [
    "#functions for API connnection\n",
    "\n",
    "startTime =time.time()\n",
    "\n",
    "def onOpen(ws):\n",
    "    print(\"connection Opened\")\n",
    "    auth_data={\n",
    "        \"action\": \"authenticate\",\n",
    "        \"data\": {\"key_id\": myCred.API_KEY, \"secret_key\": myCred.SECRET_KEY}\n",
    "    }\n",
    "    \n",
    "    ws.send(json.dumps(auth_data))\n",
    "    \n",
    "    listenMsg = {\n",
    "        \"action\": \"listen\", \n",
    "        \"data\": {\"streams\": [\"T.TSLA\",\"T.AAPL\",\"T.MSFT\"]}\n",
    "    }\n",
    "\n",
    "    ws.send(json.dumps(listenMsg))\n",
    "    \n",
    "future =[]     \n",
    "def onMsg(ws,message):\n",
    "    if re.match('^.*authorized.*$',message):\n",
    "        return\n",
    "    else:\n",
    "        if(time.time()-startTime)<30:\n",
    "            print(message)\n",
    "            try:\n",
    "                future.append(producer.send(topicName, message.encode('utf-8')))\n",
    "                return True\n",
    "            except Exception as ex:\n",
    "                #producer.close()\n",
    "                logging.error(str(ex))\n",
    "        else:\n",
    "            producer.close()\n",
    "            ws.close()\n",
    "    \n",
    "def onClose(ws):\n",
    "    print(\"connection Closed\")"
   ]
  },
  {
   "cell_type": "code",
   "execution_count": 5,
   "metadata": {},
   "outputs": [],
   "source": [
    "socket = \"wss://data.alpaca.markets/stream\"\n",
    "ws = websocket.WebSocketApp(socket,on_open=onOpen, on_close=onClose, on_message=onMsg)\n",
    "try:\n",
    "    producer=KafkaProducer(bootstrap_servers=\" localhost:9092\")\n",
    "    topicName=\"stockData\"\n",
    "except KafkaError:\n",
    "    logging.error(KafkaError)"
   ]
  },
  {
   "cell_type": "code",
   "execution_count": 6,
   "metadata": {
    "scrolled": true
   },
   "outputs": [
    {
     "name": "stdout",
     "output_type": "stream",
     "text": [
      "connection Opened\n",
      "{\"stream\":\"listening\",\"data\":{\"streams\":[\"T.TSLA\",\"T.AAPL\",\"T.MSFT\"]}}\n",
      "{\"stream\":\"T.TSLA\",\"data\":{\"ev\":\"T\",\"T\":\"TSLA\",\"i\":\"224\",\"x\":17,\"p\":1387.31,\"s\":2,\"t\":1594388521793000000,\"c\":[14,37,41],\"z\":3}}\n",
      "{\"stream\":\"T.TSLA\",\"data\":{\"ev\":\"T\",\"T\":\"TSLA\",\"i\":\"225\",\"x\":17,\"p\":1387.24,\"s\":8,\"t\":1594388521793000000,\"c\":[14,37,41],\"z\":3}}\n",
      "{\"stream\":\"T.MSFT\",\"data\":{\"ev\":\"T\",\"T\":\"MSFT\",\"i\":\"243\",\"x\":15,\"p\":212.15,\"s\":100,\"t\":1594388522306000000,\"c\":null,\"z\":3}}\n",
      "{\"stream\":\"T.MSFT\",\"data\":{\"ev\":\"T\",\"T\":\"MSFT\",\"i\":\"397\",\"x\":17,\"p\":212.11,\"s\":2,\"t\":1594388523214000000,\"c\":[37],\"z\":3}}\n",
      "{\"stream\":\"T.TSLA\",\"data\":{\"ev\":\"T\",\"T\":\"TSLA\",\"i\":\"129\",\"x\":2,\"p\":1388.01,\"s\":2,\"t\":1594388523721000000,\"c\":[37],\"z\":3}}\n",
      "{\"stream\":\"T.MSFT\",\"data\":{\"ev\":\"T\",\"T\":\"MSFT\",\"i\":\"108\",\"x\":3,\"p\":212.07,\"s\":26,\"t\":1594388525862000000,\"c\":[14,37,41],\"z\":3}}\n",
      "{\"stream\":\"T.AAPL\",\"data\":{\"ev\":\"T\",\"T\":\"AAPL\",\"i\":\"368\",\"x\":2,\"p\":380.87,\"s\":100,\"t\":1594388526226000000,\"c\":null,\"z\":3}}\n",
      "{\"stream\":\"T.MSFT\",\"data\":{\"ev\":\"T\",\"T\":\"MSFT\",\"i\":\"109\",\"x\":3,\"p\":212.1,\"s\":100,\"t\":1594388526820000000,\"c\":[14,41],\"z\":3}}\n",
      "{\"stream\":\"T.TSLA\",\"data\":{\"ev\":\"T\",\"T\":\"TSLA\",\"i\":\"109\",\"x\":15,\"p\":1387.5,\"s\":75,\"t\":1594388527693000000,\"c\":[37],\"z\":3}}\n",
      "{\"stream\":\"T.TSLA\",\"data\":{\"ev\":\"T\",\"T\":\"TSLA\",\"i\":\"110\",\"x\":15,\"p\":1387.84,\"s\":100,\"t\":1594388528057000000,\"c\":null,\"z\":3}}\n",
      "{\"stream\":\"T.MSFT\",\"data\":{\"ev\":\"T\",\"T\":\"MSFT\",\"i\":\"244\",\"x\":15,\"p\":212.15,\"s\":79,\"t\":1594388528129000000,\"c\":[37],\"z\":3}}\n",
      "{\"stream\":\"T.MSFT\",\"data\":{\"ev\":\"T\",\"T\":\"MSFT\",\"i\":\"245\",\"x\":15,\"p\":212.15,\"s\":100,\"t\":1594388528704000000,\"c\":null,\"z\":3}}\n",
      "{\"stream\":\"T.MSFT\",\"data\":{\"ev\":\"T\",\"T\":\"MSFT\",\"i\":\"246\",\"x\":15,\"p\":212.15,\"s\":100,\"t\":1594388528705000000,\"c\":null,\"z\":3}}\n",
      "{\"stream\":\"T.MSFT\",\"data\":{\"ev\":\"T\",\"T\":\"MSFT\",\"i\":\"247\",\"x\":15,\"p\":212.15,\"s\":80,\"t\":1594388528709000000,\"c\":[37],\"z\":3}}\n",
      "{\"stream\":\"T.MSFT\",\"data\":{\"ev\":\"T\",\"T\":\"MSFT\",\"i\":\"248\",\"x\":15,\"p\":212.15,\"s\":80,\"t\":1594388528834000000,\"c\":[37],\"z\":3}}\n",
      "{\"stream\":\"T.MSFT\",\"data\":{\"ev\":\"T\",\"T\":\"MSFT\",\"i\":\"249\",\"x\":15,\"p\":212.15,\"s\":6,\"t\":1594388528944000000,\"c\":[37],\"z\":3}}\n",
      "{\"stream\":\"T.MSFT\",\"data\":{\"ev\":\"T\",\"T\":\"MSFT\",\"i\":\"250\",\"x\":15,\"p\":212.15,\"s\":100,\"t\":1594388528944000000,\"c\":null,\"z\":3}}\n",
      "{\"stream\":\"T.MSFT\",\"data\":{\"ev\":\"T\",\"T\":\"MSFT\",\"i\":\"251\",\"x\":15,\"p\":212.15,\"s\":75,\"t\":1594388529012000000,\"c\":[37],\"z\":3}}\n",
      "{\"stream\":\"T.MSFT\",\"data\":{\"ev\":\"T\",\"T\":\"MSFT\",\"i\":\"252\",\"x\":15,\"p\":212.15,\"s\":25,\"t\":1594388529012000000,\"c\":[37],\"z\":3}}\n",
      "{\"stream\":\"T.MSFT\",\"data\":{\"ev\":\"T\",\"T\":\"MSFT\",\"i\":\"253\",\"x\":15,\"p\":212.15,\"s\":100,\"t\":1594388529013000000,\"c\":null,\"z\":3}}\n",
      "{\"stream\":\"T.AAPL\",\"data\":{\"ev\":\"T\",\"T\":\"AAPL\",\"i\":\"369\",\"x\":2,\"p\":380.94,\"s\":100,\"t\":1594388530978000000,\"c\":null,\"z\":3}}\n",
      "{\"stream\":\"T.AAPL\",\"data\":{\"ev\":\"T\",\"T\":\"AAPL\",\"i\":\"370\",\"x\":2,\"p\":380.92,\"s\":5,\"t\":1594388531440000000,\"c\":[14,37,41],\"z\":3}}\n",
      "{\"stream\":\"T.MSFT\",\"data\":{\"ev\":\"T\",\"T\":\"MSFT\",\"i\":\"398\",\"x\":17,\"p\":212.15,\"s\":2,\"t\":1594388531995000000,\"c\":[14,37,41],\"z\":3}}\n",
      "{\"stream\":\"T.MSFT\",\"data\":{\"ev\":\"T\",\"T\":\"MSFT\",\"i\":\"110\",\"x\":3,\"p\":212.15,\"s\":100,\"t\":1594388531995000000,\"c\":[14,41],\"z\":3}}\n",
      "{\"stream\":\"T.MSFT\",\"data\":{\"ev\":\"T\",\"T\":\"MSFT\",\"i\":\"399\",\"x\":17,\"p\":212.21,\"s\":2,\"t\":1594388533524000000,\"c\":[37],\"z\":3}}\n",
      "{\"stream\":\"T.AAPL\",\"data\":{\"ev\":\"T\",\"T\":\"AAPL\",\"i\":\"371\",\"x\":2,\"p\":380.82,\"s\":100,\"t\":1594388534775000000,\"c\":[14,41],\"z\":3}}\n",
      "{\"stream\":\"T.AAPL\",\"data\":{\"ev\":\"T\",\"T\":\"AAPL\",\"i\":\"372\",\"x\":2,\"p\":380.73,\"s\":2,\"t\":1594388535429000000,\"c\":[37],\"z\":3}}\n",
      "{\"stream\":\"T.MSFT\",\"data\":{\"ev\":\"T\",\"T\":\"MSFT\",\"i\":\"111\",\"x\":3,\"p\":212.03,\"s\":75,\"t\":1594388535463000000,\"c\":[14,37,41],\"z\":3}}\n",
      "{\"stream\":\"T.MSFT\",\"data\":{\"ev\":\"T\",\"T\":\"MSFT\",\"i\":\"112\",\"x\":3,\"p\":212.03,\"s\":31,\"t\":1594388535463000000,\"c\":[14,37,41],\"z\":3}}\n",
      "{\"stream\":\"T.MSFT\",\"data\":{\"ev\":\"T\",\"T\":\"MSFT\",\"i\":\"113\",\"x\":3,\"p\":212.03,\"s\":6,\"t\":1594388535463000000,\"c\":[14,37,41],\"z\":3}}\n",
      "{\"stream\":\"T.MSFT\",\"data\":{\"ev\":\"T\",\"T\":\"MSFT\",\"i\":\"114\",\"x\":3,\"p\":212.03,\"s\":88,\"t\":1594388535463000000,\"c\":[37],\"z\":3}}\n",
      "{\"stream\":\"T.MSFT\",\"data\":{\"ev\":\"T\",\"T\":\"MSFT\",\"i\":\"254\",\"x\":15,\"p\":212.025,\"s\":100,\"t\":1594388535476000000,\"c\":null,\"z\":3}}\n",
      "{\"stream\":\"T.MSFT\",\"data\":{\"ev\":\"T\",\"T\":\"MSFT\",\"i\":\"400\",\"x\":17,\"p\":212.04,\"s\":1,\"t\":1594388537111000000,\"c\":[14,37,41],\"z\":3}}\n",
      "{\"stream\":\"T.TSLA\",\"data\":{\"ev\":\"T\",\"T\":\"TSLA\",\"i\":\"130\",\"x\":2,\"p\":1387.14,\"s\":2,\"t\":1594388537650000000,\"c\":[14,37,41],\"z\":3}}\n",
      "{\"stream\":\"T.AAPL\",\"data\":{\"ev\":\"T\",\"T\":\"AAPL\",\"i\":\"373\",\"x\":2,\"p\":380.74,\"s\":30,\"t\":1594388537767000000,\"c\":[37],\"z\":3}}\n",
      "{\"stream\":\"T.AAPL\",\"data\":{\"ev\":\"T\",\"T\":\"AAPL\",\"i\":\"374\",\"x\":2,\"p\":380.83,\"s\":100,\"t\":1594388538413000000,\"c\":[14,41],\"z\":3}}\n",
      "{\"stream\":\"T.TSLA\",\"data\":{\"ev\":\"T\",\"T\":\"TSLA\",\"i\":\"131\",\"x\":2,\"p\":1386.58,\"s\":2,\"t\":1594388538751000000,\"c\":[37],\"z\":3}}\n",
      "{\"stream\":\"T.AAPL\",\"data\":{\"ev\":\"T\",\"T\":\"AAPL\",\"i\":\"375\",\"x\":2,\"p\":380.74,\"s\":152,\"t\":1594388539203000000,\"c\":[14,41],\"z\":3}}\n",
      "{\"stream\":\"T.AAPL\",\"data\":{\"ev\":\"T\",\"T\":\"AAPL\",\"i\":\"376\",\"x\":2,\"p\":380.74,\"s\":18,\"t\":1594388539204000000,\"c\":[14,37,41],\"z\":3}}\n",
      "{\"stream\":\"T.MSFT\",\"data\":{\"ev\":\"T\",\"T\":\"MSFT\",\"i\":\"401\",\"x\":17,\"p\":212.04,\"s\":2,\"t\":1594388539963000000,\"c\":[14,37,41],\"z\":3}}\n",
      "{\"stream\":\"T.MSFT\",\"data\":{\"ev\":\"T\",\"T\":\"MSFT\",\"i\":\"402\",\"x\":17,\"p\":212.04,\"s\":5,\"t\":1594388539963000000,\"c\":[14,37,41],\"z\":3}}\n",
      "{\"stream\":\"T.MSFT\",\"data\":{\"ev\":\"T\",\"T\":\"MSFT\",\"i\":\"403\",\"x\":17,\"p\":212.04,\"s\":4,\"t\":1594388539963000000,\"c\":[37],\"z\":3}}\n",
      "{\"stream\":\"T.MSFT\",\"data\":{\"ev\":\"T\",\"T\":\"MSFT\",\"i\":\"378\",\"x\":2,\"p\":212.04,\"s\":100,\"t\":1594388539964000000,\"c\":[14,41],\"z\":3}}\n",
      "{\"stream\":\"T.MSFT\",\"data\":{\"ev\":\"T\",\"T\":\"MSFT\",\"i\":\"404\",\"x\":17,\"p\":212.03,\"s\":2,\"t\":1594388539964000000,\"c\":[14,37,41],\"z\":3}}\n",
      "{\"stream\":\"T.AAPL\",\"data\":{\"ev\":\"T\",\"T\":\"AAPL\",\"i\":\"377\",\"x\":2,\"p\":380.73,\"s\":38,\"t\":1594388542712000000,\"c\":[14,37,41],\"z\":3}}\n",
      "{\"stream\":\"T.MSFT\",\"data\":{\"ev\":\"T\",\"T\":\"MSFT\",\"i\":\"379\",\"x\":2,\"p\":211.98,\"s\":24,\"t\":1594388542861000000,\"c\":[37],\"z\":3}}\n",
      "{\"stream\":\"T.AAPL\",\"data\":{\"ev\":\"T\",\"T\":\"AAPL\",\"i\":\"378\",\"x\":2,\"p\":380.72,\"s\":2,\"t\":1594388543136000000,\"c\":[14,37,41],\"z\":3}}\n",
      "{\"stream\":\"T.AAPL\",\"data\":{\"ev\":\"T\",\"T\":\"AAPL\",\"i\":\"379\",\"x\":2,\"p\":380.72,\"s\":73,\"t\":1594388543136000000,\"c\":[14,37,41],\"z\":3}}\n",
      "{\"stream\":\"T.MSFT\",\"data\":{\"ev\":\"T\",\"T\":\"MSFT\",\"i\":\"115\",\"x\":3,\"p\":211.98,\"s\":100,\"t\":1594388543378000000,\"c\":null,\"z\":3}}\n",
      "{\"stream\":\"T.MSFT\",\"data\":{\"ev\":\"T\",\"T\":\"MSFT\",\"i\":\"116\",\"x\":3,\"p\":211.98,\"s\":100,\"t\":1594388543392000000,\"c\":[14,41],\"z\":3}}\n",
      "{\"stream\":\"T.AAPL\",\"data\":{\"ev\":\"T\",\"T\":\"AAPL\",\"i\":\"380\",\"x\":2,\"p\":380.65,\"s\":20,\"t\":1594388543868000000,\"c\":[14,37,41],\"z\":3}}\n",
      "{\"stream\":\"T.TSLA\",\"data\":{\"ev\":\"T\",\"T\":\"TSLA\",\"i\":\"226\",\"x\":17,\"p\":1386.09,\"s\":1,\"t\":1594388544487000000,\"c\":[14,37,41],\"z\":3}}\n",
      "{\"stream\":\"T.MSFT\",\"data\":{\"ev\":\"T\",\"T\":\"MSFT\",\"i\":\"255\",\"x\":15,\"p\":211.9,\"s\":25,\"t\":1594388545239000000,\"c\":[37],\"z\":3}}\n",
      "{\"stream\":\"T.MSFT\",\"data\":{\"ev\":\"T\",\"T\":\"MSFT\",\"i\":\"117\",\"x\":3,\"p\":211.93,\"s\":8,\"t\":1594388545422000000,\"c\":[14,37,41],\"z\":3}}\n",
      "{\"stream\":\"T.MSFT\",\"data\":{\"ev\":\"T\",\"T\":\"MSFT\",\"i\":\"256\",\"x\":15,\"p\":211.94,\"s\":46,\"t\":1594388545460000000,\"c\":[37],\"z\":3}}\n",
      "{\"stream\":\"T.TSLA\",\"data\":{\"ev\":\"T\",\"T\":\"TSLA\",\"i\":\"132\",\"x\":2,\"p\":1386.54,\"s\":2,\"t\":1594388546817000000,\"c\":[14,37,41],\"z\":3}}\n",
      "{\"stream\":\"T.MSFT\",\"data\":{\"ev\":\"T\",\"T\":\"MSFT\",\"i\":\"380\",\"x\":2,\"p\":211.96,\"s\":24,\"t\":1594388547020000000,\"c\":[37],\"z\":3}}\n",
      "{\"stream\":\"T.MSFT\",\"data\":{\"ev\":\"T\",\"T\":\"MSFT\",\"i\":\"405\",\"x\":17,\"p\":211.92,\"s\":100,\"t\":1594388547049000000,\"c\":[14,41],\"z\":3}}\n",
      "{\"stream\":\"T.MSFT\",\"data\":{\"ev\":\"T\",\"T\":\"MSFT\",\"i\":\"257\",\"x\":15,\"p\":211.97,\"s\":100,\"t\":1594388547213000000,\"c\":null,\"z\":3}}\n",
      "{\"stream\":\"T.MSFT\",\"data\":{\"ev\":\"T\",\"T\":\"MSFT\",\"i\":\"118\",\"x\":3,\"p\":212,\"s\":6,\"t\":1594388547988000000,\"c\":[14,37,41],\"z\":3}}\n",
      "{\"stream\":\"T.MSFT\",\"data\":{\"ev\":\"T\",\"T\":\"MSFT\",\"i\":\"258\",\"x\":15,\"p\":212.005,\"s\":500,\"t\":1594388547995000000,\"c\":null,\"z\":3}}\n",
      "{\"stream\":\"T.MSFT\",\"data\":{\"ev\":\"T\",\"T\":\"MSFT\",\"i\":\"119\",\"x\":3,\"p\":212,\"s\":94,\"t\":1594388547988000000,\"c\":[37],\"z\":3}}\n",
      "{\"stream\":\"T.MSFT\",\"data\":{\"ev\":\"T\",\"T\":\"MSFT\",\"i\":\"120\",\"x\":3,\"p\":212.04,\"s\":75,\"t\":1594388548686000000,\"c\":[14,37,41],\"z\":3}}\n",
      "{\"stream\":\"T.MSFT\",\"data\":{\"ev\":\"T\",\"T\":\"MSFT\",\"i\":\"121\",\"x\":3,\"p\":212.04,\"s\":25,\"t\":1594388548686000000,\"c\":[14,37,41],\"z\":3}}\n"
     ]
    }
   ],
   "source": [
    "ws.run_forever()"
   ]
  },
  {
   "cell_type": "code",
   "execution_count": 7,
   "metadata": {},
   "outputs": [],
   "source": [
    "try:\n",
    "    ret = [f.get(timeout=30) for f in future]\n",
    "    logging.info(ret[-1].offset)\n",
    "except KafkaError:\n",
    "    logging.info(KafkaError)"
   ]
  },
  {
   "cell_type": "code",
   "execution_count": null,
   "metadata": {},
   "outputs": [],
   "source": []
  }
 ],
 "metadata": {
  "kernelspec": {
   "display_name": "Python 3",
   "language": "python",
   "name": "python3"
  },
  "language_info": {
   "codemirror_mode": {
    "name": "ipython",
    "version": 3
   },
   "file_extension": ".py",
   "mimetype": "text/x-python",
   "name": "python",
   "nbconvert_exporter": "python",
   "pygments_lexer": "ipython3",
   "version": "3.7.3"
  }
 },
 "nbformat": 4,
 "nbformat_minor": 4
}
