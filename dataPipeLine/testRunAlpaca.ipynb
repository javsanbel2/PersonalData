{
 "cells": [
  {
   "cell_type": "code",
   "execution_count": 1,
   "metadata": {},
   "outputs": [],
   "source": [
    "from kafka import KafkaProducer,KafkaClient\n",
    "from kafka.errors import KafkaError\n",
    "import time\n",
    "import json\n",
    "import websocket\n",
    "import logging\n",
    "import re\n",
    "#LOCAL IMPORTS\n",
    "import config as myCred"
   ]
  },
  {
   "cell_type": "code",
   "execution_count": 11,
   "metadata": {},
   "outputs": [],
   "source": [
    "#functions for API connnection\n",
    "\n",
    "startTime =time.time()\n",
    "\n",
    "def onOpen(ws):\n",
    "    print(\"connection Opened\")\n",
    "    auth_data={\n",
    "        \"action\": \"authenticate\",\n",
    "        \"data\": {\"key_id\": myCred.API_KEY, \"secret_key\": myCred.SECRET_KEY}\n",
    "    }\n",
    "    \n",
    "    ws.send(json.dumps(auth_data))\n",
    "    \n",
    "    listenMsg = {\n",
    "        \"action\": \"listen\", \n",
    "        \"data\": {\"streams\": [\"T.TSLA\",\"T.AAPL\",\"T.MSFT\"]}\n",
    "    }\n",
    "\n",
    "    ws.send(json.dumps(listenMsg))\n",
    "        \n",
    "def onMsg(ws,message):\n",
    "    if re.match('^.*authorized.*$',message):\n",
    "        return\n",
    "    else:\n",
    "        if(time.time()-startTime)<15:\n",
    "            print(message)\n",
    "            try:\n",
    "                producer.send(topicName, message.encode('utf-8'))\n",
    "                return True\n",
    "            except Exception as ex:\n",
    "                print('Exception in publishing message')\n",
    "                print(str(ex))\n",
    "        else:\n",
    "            ws.close()\n",
    "    \n",
    "def onClose(ws):\n",
    "    print(\"connection Closed\")"
   ]
  },
  {
   "cell_type": "code",
   "execution_count": 12,
   "metadata": {},
   "outputs": [],
   "source": [
    "socket = \"wss://data.alpaca.markets/stream\"\n",
    "ws = websocket.WebSocketApp(socket,on_open=onOpen, on_close=onClose, on_message=onMsg)\n",
    "try:\n",
    "    producer=KafkaProducer(bootstrap_servers=\" localhost:9092\")\n",
    "    topicName=\"stockData\"\n",
    "except KafkaError:\n",
    "    print(logging.exception(\"no broker available\"))\n",
    "    "
   ]
  },
  {
   "cell_type": "code",
   "execution_count": 13,
   "metadata": {
    "scrolled": true
   },
   "outputs": [
    {
     "name": "stdout",
     "output_type": "stream",
     "text": [
      "connection Opened\n",
      "{\"stream\":\"listening\",\"data\":{\"streams\":[\"T.TSLA\",\"T.AAPL\",\"T.MSFT\"]}}\n",
      "{\"stream\":\"T.AAPL\",\"data\":{\"ev\":\"T\",\"T\":\"AAPL\",\"i\":\"1830\",\"x\":2,\"p\":365.5,\"s\":8,\"t\":1593532885446000000,\"c\":[14,37,41],\"z\":3}}\n",
      "{\"stream\":\"T.AAPL\",\"data\":{\"ev\":\"T\",\"T\":\"AAPL\",\"i\":\"1831\",\"x\":2,\"p\":365.5,\"s\":92,\"t\":1593532885446000000,\"c\":[37],\"z\":3}}\n",
      "{\"stream\":\"T.TSLA\",\"data\":{\"ev\":\"T\",\"T\":\"TSLA\",\"i\":\"2320\",\"x\":17,\"p\":1080.54,\"s\":70,\"t\":1593532886047000000,\"c\":[37],\"z\":3}}\n",
      "{\"stream\":\"T.TSLA\",\"data\":{\"ev\":\"T\",\"T\":\"TSLA\",\"i\":\"2321\",\"x\":17,\"p\":1080.54,\"s\":30,\"t\":1593532886047000000,\"c\":[14,37,41],\"z\":3}}\n",
      "{\"stream\":\"T.MSFT\",\"data\":{\"ev\":\"T\",\"T\":\"MSFT\",\"i\":\"1536\",\"x\":15,\"p\":201.325,\"s\":100,\"t\":1593532886130000000,\"c\":null,\"z\":3}}\n",
      "{\"stream\":\"T.TSLA\",\"data\":{\"ev\":\"T\",\"T\":\"TSLA\",\"i\":\"2322\",\"x\":17,\"p\":1080.55,\"s\":100,\"t\":1593532886362000000,\"c\":null,\"z\":3}}\n",
      "{\"stream\":\"T.TSLA\",\"data\":{\"ev\":\"T\",\"T\":\"TSLA\",\"i\":\"1245\",\"x\":15,\"p\":1080.365,\"s\":20,\"t\":1593532887696000000,\"c\":[37],\"z\":3}}\n",
      "{\"stream\":\"T.TSLA\",\"data\":{\"ev\":\"T\",\"T\":\"TSLA\",\"i\":\"2323\",\"x\":17,\"p\":1080.19,\"s\":1,\"t\":1593532888673000000,\"c\":[14,37,41],\"z\":3}}\n",
      "{\"stream\":\"T.TSLA\",\"data\":{\"ev\":\"T\",\"T\":\"TSLA\",\"i\":\"1246\",\"x\":15,\"p\":1080.365,\"s\":1,\"t\":1593532888908000000,\"c\":[37],\"z\":3}}\n",
      "{\"stream\":\"T.TSLA\",\"data\":{\"ev\":\"T\",\"T\":\"TSLA\",\"i\":\"1247\",\"x\":15,\"p\":1080.365,\"s\":20,\"t\":1593532889492000000,\"c\":[37],\"z\":3}}\n",
      "{\"stream\":\"T.TSLA\",\"data\":{\"ev\":\"T\",\"T\":\"TSLA\",\"i\":\"2324\",\"x\":17,\"p\":1079.77,\"s\":2,\"t\":1593532890449000000,\"c\":[14,37,41],\"z\":3}}\n",
      "{\"stream\":\"T.TSLA\",\"data\":{\"ev\":\"T\",\"T\":\"TSLA\",\"i\":\"2325\",\"x\":17,\"p\":1079.76,\"s\":2,\"t\":1593532890450000000,\"c\":[14,37,41],\"z\":3}}\n",
      "{\"stream\":\"T.TSLA\",\"data\":{\"ev\":\"T\",\"T\":\"TSLA\",\"i\":\"2326\",\"x\":17,\"p\":1079.76,\"s\":2,\"t\":1593532890465000000,\"c\":[14,37,41],\"z\":3}}\n",
      "{\"stream\":\"T.TSLA\",\"data\":{\"ev\":\"T\",\"T\":\"TSLA\",\"i\":\"2327\",\"x\":17,\"p\":1080.08,\"s\":2,\"t\":1593532890711000000,\"c\":[14,37,41],\"z\":3}}\n",
      "{\"stream\":\"T.TSLA\",\"data\":{\"ev\":\"T\",\"T\":\"TSLA\",\"i\":\"2328\",\"x\":17,\"p\":1080.17,\"s\":98,\"t\":1593532890711000000,\"c\":[14,37,41],\"z\":3}}\n",
      "{\"stream\":\"T.TSLA\",\"data\":{\"ev\":\"T\",\"T\":\"TSLA\",\"i\":\"1248\",\"x\":15,\"p\":1079.94,\"s\":57,\"t\":1593532892260000000,\"c\":[37],\"z\":3}}\n",
      "{\"stream\":\"T.MSFT\",\"data\":{\"ev\":\"T\",\"T\":\"MSFT\",\"i\":\"363\",\"x\":3,\"p\":201.25,\"s\":9,\"t\":1593532892873000000,\"c\":[37],\"z\":3}}\n"
     ]
    }
   ],
   "source": [
    "ws.run_forever()"
   ]
  },
  {
   "cell_type": "code",
   "execution_count": null,
   "metadata": {},
   "outputs": [],
   "source": []
  }
 ],
 "metadata": {
  "kernelspec": {
   "display_name": "Python 3",
   "language": "python",
   "name": "python3"
  },
  "language_info": {
   "codemirror_mode": {
    "name": "ipython",
    "version": 3
   },
   "file_extension": ".py",
   "mimetype": "text/x-python",
   "name": "python",
   "nbconvert_exporter": "python",
   "pygments_lexer": "ipython3",
   "version": "3.7.3"
  }
 },
 "nbformat": 4,
 "nbformat_minor": 4
}
