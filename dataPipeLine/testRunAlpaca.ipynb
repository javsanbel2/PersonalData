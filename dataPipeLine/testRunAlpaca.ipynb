{
 "cells": [
  {
   "cell_type": "code",
   "execution_count": 1,
   "metadata": {},
   "outputs": [],
   "source": [
    "from kafka import KafkaProducer,KafkaClient\n",
    "from kafka.errors import KafkaError\n",
    "import time\n",
    "import json\n",
    "import websocket\n",
    "import logging\n",
    "import re\n",
    "#LOCAL IMPORTS\n",
    "import config as myCred\n",
    "from confluent_kafka.admin import AdminClient"
   ]
  },
  {
   "cell_type": "code",
   "execution_count": 3,
   "metadata": {},
   "outputs": [
    {
     "name": "stdout",
     "output_type": "stream",
     "text": [
      "{'stockData': TopicMetadata(stockData, 1 partitions), 'JivWn': TopicMetadata(JivWn, 1 partitions), '__consumer_offsets': TopicMetadata(__consumer_offsets, 50 partitions)}\n"
     ]
    }
   ],
   "source": [
    "#unit test to check if zookeeper an kafka are running properly\n",
    "conf = {'bootstrap.servers':'localhost:9092'}\n",
    "admin_client = AdminClient(conf)\n",
    "topics = admin_client.list_topics().topics\n",
    "\n",
    "if not topics: \n",
    "    raise RuntimeError()\n",
    "else:\n",
    "    print(topics)"
   ]
  },
  {
   "cell_type": "code",
   "execution_count": 32,
   "metadata": {},
   "outputs": [],
   "source": [
    "#functions for API connnection\n",
    "\n",
    "startTime =time.time()\n",
    "\n",
    "def onOpen(ws):\n",
    "    print(\"connection Opened\")\n",
    "    auth_data={\n",
    "        \"action\": \"authenticate\",\n",
    "        \"data\": {\"key_id\": myCred.API_KEY, \"secret_key\": myCred.SECRET_KEY}\n",
    "    }\n",
    "    \n",
    "    ws.send(json.dumps(auth_data))\n",
    "    \n",
    "    listenMsg = {\n",
    "        \"action\": \"listen\", \n",
    "        \"data\": {\"streams\": [\"T.TSLA\",\"T.AAPL\",\"T.MSFT\"]}\n",
    "    }\n",
    "\n",
    "    ws.send(json.dumps(listenMsg))\n",
    "        \n",
    "def onMsg(ws,message):\n",
    "    if re.match('^.*authorized.*$',message):\n",
    "        return\n",
    "    else:\n",
    "        if(time.time()-startTime)<30:\n",
    "            print(message)\n",
    "            try:\n",
    "                producer.send(topicName, message.encode('utf-8'))\n",
    "                return True\n",
    "            except Exception as ex:\n",
    "                print('Exception in publishing message')\n",
    "                print(str(ex))\n",
    "        else:\n",
    "            ws.close()\n",
    "    \n",
    "def onClose(ws):\n",
    "    print(\"connection Closed\")"
   ]
  },
  {
   "cell_type": "code",
   "execution_count": 33,
   "metadata": {},
   "outputs": [],
   "source": [
    "socket = \"wss://data.alpaca.markets/stream\"\n",
    "ws = websocket.WebSocketApp(socket,on_open=onOpen, on_close=onClose, on_message=onMsg)\n",
    "try:\n",
    "    producer=KafkaProducer(bootstrap_servers=\" localhost:9092\")\n",
    "    topicName=\"stockData\"\n",
    "except KafkaError:\n",
    "    print(logging.exception(\"producer run time error\"))\n",
    "    "
   ]
  },
  {
   "cell_type": "code",
   "execution_count": 34,
   "metadata": {
    "scrolled": true
   },
   "outputs": [
    {
     "name": "stdout",
     "output_type": "stream",
     "text": [
      "connection Opened\n",
      "{\"stream\":\"listening\",\"data\":{\"streams\":[\"T.TSLA\",\"T.AAPL\",\"T.MSFT\"]}}\n",
      "{\"stream\":\"T.MSFT\",\"data\":{\"ev\":\"T\",\"T\":\"MSFT\",\"i\":\"905\",\"x\":17,\"p\":211.26,\"s\":2,\"t\":1594217502114000000,\"c\":[37],\"z\":3}}\n",
      "{\"stream\":\"T.AAPL\",\"data\":{\"ev\":\"T\",\"T\":\"AAPL\",\"i\":\"778\",\"x\":2,\"p\":379.26,\"s\":82,\"t\":1594217502168000000,\"c\":[14,37,41],\"z\":3}}\n",
      "{\"stream\":\"T.AAPL\",\"data\":{\"ev\":\"T\",\"T\":\"AAPL\",\"i\":\"779\",\"x\":2,\"p\":379.26,\"s\":18,\"t\":1594217502168000000,\"c\":[14,37,41],\"z\":3}}\n",
      "{\"stream\":\"T.TSLA\",\"data\":{\"ev\":\"T\",\"T\":\"TSLA\",\"i\":\"457\",\"x\":15,\"p\":1403.74,\"s\":20,\"t\":1594217502156000000,\"c\":[37],\"z\":3}}\n",
      "{\"stream\":\"T.TSLA\",\"data\":{\"ev\":\"T\",\"T\":\"TSLA\",\"i\":\"458\",\"x\":15,\"p\":1403.65,\"s\":20,\"t\":1594217502156000000,\"c\":[37],\"z\":3}}\n",
      "{\"stream\":\"T.TSLA\",\"data\":{\"ev\":\"T\",\"T\":\"TSLA\",\"i\":\"459\",\"x\":15,\"p\":1403.68,\"s\":38,\"t\":1594217502157000000,\"c\":[37],\"z\":3}}\n",
      "{\"stream\":\"T.MSFT\",\"data\":{\"ev\":\"T\",\"T\":\"MSFT\",\"i\":\"539\",\"x\":15,\"p\":211.31,\"s\":100,\"t\":1594217505822000000,\"c\":null,\"z\":3}}\n",
      "{\"stream\":\"T.TSLA\",\"data\":{\"ev\":\"T\",\"T\":\"TSLA\",\"i\":\"522\",\"x\":2,\"p\":1403.51,\"s\":10,\"t\":1594217506304000000,\"c\":[37],\"z\":3}}\n",
      "{\"stream\":\"T.TSLA\",\"data\":{\"ev\":\"T\",\"T\":\"TSLA\",\"i\":\"914\",\"x\":17,\"p\":1403.09,\"s\":2,\"t\":1594217508654000000,\"c\":[37],\"z\":3}}\n",
      "{\"stream\":\"T.TSLA\",\"data\":{\"ev\":\"T\",\"T\":\"TSLA\",\"i\":\"460\",\"x\":15,\"p\":1403.14,\"s\":100,\"t\":1594217508657000000,\"c\":null,\"z\":3}}\n",
      "{\"stream\":\"T.MSFT\",\"data\":{\"ev\":\"T\",\"T\":\"MSFT\",\"i\":\"540\",\"x\":15,\"p\":211.275,\"s\":100,\"t\":1594217508818000000,\"c\":null,\"z\":3}}\n",
      "{\"stream\":\"T.TSLA\",\"data\":{\"ev\":\"T\",\"T\":\"TSLA\",\"i\":\"461\",\"x\":15,\"p\":1403.06,\"s\":100,\"t\":1594217511887000000,\"c\":null,\"z\":3}}\n",
      "{\"stream\":\"T.MSFT\",\"data\":{\"ev\":\"T\",\"T\":\"MSFT\",\"i\":\"906\",\"x\":17,\"p\":211.42,\"s\":1,\"t\":1594217523477000000,\"c\":[14,37,41],\"z\":3}}\n",
      "{\"stream\":\"T.MSFT\",\"data\":{\"ev\":\"T\",\"T\":\"MSFT\",\"i\":\"1421\",\"x\":2,\"p\":211.44,\"s\":15,\"t\":1594217523821000000,\"c\":[37],\"z\":3}}\n",
      "{\"stream\":\"T.MSFT\",\"data\":{\"ev\":\"T\",\"T\":\"MSFT\",\"i\":\"908\",\"x\":17,\"p\":211.44,\"s\":13,\"t\":1594217524290000000,\"c\":[37],\"z\":3}}\n",
      "{\"stream\":\"T.MSFT\",\"data\":{\"ev\":\"T\",\"T\":\"MSFT\",\"i\":\"909\",\"x\":17,\"p\":211.44,\"s\":141,\"t\":1594217524290000000,\"c\":[14,41],\"z\":3}}\n",
      "{\"stream\":\"T.MSFT\",\"data\":{\"ev\":\"T\",\"T\":\"MSFT\",\"i\":\"907\",\"x\":17,\"p\":211.44,\"s\":81,\"t\":1594217524290000000,\"c\":[14,37,41],\"z\":3}}\n",
      "{\"stream\":\"T.MSFT\",\"data\":{\"ev\":\"T\",\"T\":\"MSFT\",\"i\":\"910\",\"x\":17,\"p\":211.44,\"s\":21,\"t\":1594217524290000000,\"c\":[37],\"z\":3}}\n",
      "{\"stream\":\"T.MSFT\",\"data\":{\"ev\":\"T\",\"T\":\"MSFT\",\"i\":\"911\",\"x\":17,\"p\":211.44,\"s\":114,\"t\":1594217524290000000,\"c\":[14,41],\"z\":3}}\n",
      "{\"stream\":\"T.MSFT\",\"data\":{\"ev\":\"T\",\"T\":\"MSFT\",\"i\":\"912\",\"x\":17,\"p\":211.44,\"s\":130,\"t\":1594217524290000000,\"c\":[14,41],\"z\":3}}\n",
      "{\"stream\":\"T.MSFT\",\"data\":{\"ev\":\"T\",\"T\":\"MSFT\",\"i\":\"913\",\"x\":17,\"p\":211.44,\"s\":183,\"t\":1594217524290000000,\"c\":[14,41],\"z\":3}}\n",
      "{\"stream\":\"T.MSFT\",\"data\":{\"ev\":\"T\",\"T\":\"MSFT\",\"i\":\"914\",\"x\":17,\"p\":211.44,\"s\":270,\"t\":1594217524326000000,\"c\":[14,41],\"z\":3}}\n",
      "{\"stream\":\"T.MSFT\",\"data\":{\"ev\":\"T\",\"T\":\"MSFT\",\"i\":\"915\",\"x\":17,\"p\":211.44,\"s\":30,\"t\":1594217524338000000,\"c\":[14,37,41],\"z\":3}}\n",
      "{\"stream\":\"T.MSFT\",\"data\":{\"ev\":\"T\",\"T\":\"MSFT\",\"i\":\"916\",\"x\":17,\"p\":211.44,\"s\":117,\"t\":1594217524553000000,\"c\":[14,41],\"z\":3}}\n",
      "{\"stream\":\"T.AAPL\",\"data\":{\"ev\":\"T\",\"T\":\"AAPL\",\"i\":\"781\",\"x\":2,\"p\":379.55,\"s\":4,\"t\":1594217525094000000,\"c\":[14,37,41],\"z\":3}}\n",
      "{\"stream\":\"T.AAPL\",\"data\":{\"ev\":\"T\",\"T\":\"AAPL\",\"i\":\"780\",\"x\":2,\"p\":379.55,\"s\":30,\"t\":1594217525093000000,\"c\":[37],\"z\":3}}\n",
      "{\"stream\":\"T.TSLA\",\"data\":{\"ev\":\"T\",\"T\":\"TSLA\",\"i\":\"147\",\"x\":9,\"p\":1404.49,\"s\":2,\"t\":1594217525094000000,\"c\":[37],\"z\":3}}\n",
      "{\"stream\":\"T.AAPL\",\"data\":{\"ev\":\"T\",\"T\":\"AAPL\",\"i\":\"782\",\"x\":2,\"p\":379.55,\"s\":4,\"t\":1594217525094000000,\"c\":[14,37,41],\"z\":3}}\n",
      "{\"stream\":\"T.AAPL\",\"data\":{\"ev\":\"T\",\"T\":\"AAPL\",\"i\":\"783\",\"x\":2,\"p\":379.55,\"s\":4,\"t\":1594217525094000000,\"c\":[14,37,41],\"z\":3}}\n",
      "{\"stream\":\"T.AAPL\",\"data\":{\"ev\":\"T\",\"T\":\"AAPL\",\"i\":\"787\",\"x\":2,\"p\":379.55,\"s\":27,\"t\":1594217525094000000,\"c\":[37],\"z\":3}}\n",
      "{\"stream\":\"T.AAPL\",\"data\":{\"ev\":\"T\",\"T\":\"AAPL\",\"i\":\"788\",\"x\":2,\"p\":379.55,\"s\":1,\"t\":1594217525094000000,\"c\":[37],\"z\":3}}\n",
      "{\"stream\":\"T.AAPL\",\"data\":{\"ev\":\"T\",\"T\":\"AAPL\",\"i\":\"784\",\"x\":2,\"p\":379.55,\"s\":36,\"t\":1594217525094000000,\"c\":[37],\"z\":3}}\n",
      "{\"stream\":\"T.AAPL\",\"data\":{\"ev\":\"T\",\"T\":\"AAPL\",\"i\":\"785\",\"x\":2,\"p\":379.55,\"s\":22,\"t\":1594217525094000000,\"c\":[14,37,41],\"z\":3}}\n",
      "{\"stream\":\"T.AAPL\",\"data\":{\"ev\":\"T\",\"T\":\"AAPL\",\"i\":\"786\",\"x\":2,\"p\":379.55,\"s\":53,\"t\":1594217525094000000,\"c\":[14,37,41],\"z\":3}}\n",
      "{\"stream\":\"T.MSFT\",\"data\":{\"ev\":\"T\",\"T\":\"MSFT\",\"i\":\"917\",\"x\":17,\"p\":211.48,\"s\":1,\"t\":1594217525543000000,\"c\":[14,37,41],\"z\":3}}\n",
      "{\"stream\":\"T.AAPL\",\"data\":{\"ev\":\"T\",\"T\":\"AAPL\",\"i\":\"384\",\"x\":15,\"p\":379.52,\"s\":20,\"t\":1594217525747000000,\"c\":[37],\"z\":3}}\n",
      "{\"stream\":\"T.MSFT\",\"data\":{\"ev\":\"T\",\"T\":\"MSFT\",\"i\":\"918\",\"x\":17,\"p\":211.49,\"s\":1,\"t\":1594217526006000000,\"c\":[37],\"z\":3}}\n",
      "{\"stream\":\"T.TSLA\",\"data\":{\"ev\":\"T\",\"T\":\"TSLA\",\"i\":\"915\",\"x\":17,\"p\":1404.56,\"s\":30,\"t\":1594217526226000000,\"c\":[37],\"z\":3}}\n",
      "{\"stream\":\"T.MSFT\",\"data\":{\"ev\":\"T\",\"T\":\"MSFT\",\"i\":\"1422\",\"x\":2,\"p\":211.48,\"s\":1,\"t\":1594217526586000000,\"c\":[14,37,41],\"z\":3}}\n",
      "{\"stream\":\"T.AAPL\",\"data\":{\"ev\":\"T\",\"T\":\"AAPL\",\"i\":\"789\",\"x\":2,\"p\":379.55,\"s\":100,\"t\":1594217527055000000,\"c\":[14,41],\"z\":3}}\n",
      "{\"stream\":\"T.AAPL\",\"data\":{\"ev\":\"T\",\"T\":\"AAPL\",\"i\":\"791\",\"x\":2,\"p\":379.55,\"s\":21,\"t\":1594217527095000000,\"c\":[14,37,41],\"z\":3}}\n",
      "{\"stream\":\"T.AAPL\",\"data\":{\"ev\":\"T\",\"T\":\"AAPL\",\"i\":\"790\",\"x\":2,\"p\":379.55,\"s\":4,\"t\":1594217527093000000,\"c\":[37],\"z\":3}}\n",
      "{\"stream\":\"T.MSFT\",\"data\":{\"ev\":\"T\",\"T\":\"MSFT\",\"i\":\"1423\",\"x\":2,\"p\":211.5,\"s\":4,\"t\":1594217527406000000,\"c\":[37],\"z\":3}}\n",
      "{\"stream\":\"T.MSFT\",\"data\":{\"ev\":\"T\",\"T\":\"MSFT\",\"i\":\"1425\",\"x\":2,\"p\":211.5,\"s\":4,\"t\":1594217527406000000,\"c\":[37],\"z\":3}}\n",
      "{\"stream\":\"T.MSFT\",\"data\":{\"ev\":\"T\",\"T\":\"MSFT\",\"i\":\"1428\",\"x\":2,\"p\":211.5,\"s\":60,\"t\":1594217527422000000,\"c\":[14,37,41],\"z\":3}}\n",
      "{\"stream\":\"T.MSFT\",\"data\":{\"ev\":\"T\",\"T\":\"MSFT\",\"i\":\"1424\",\"x\":2,\"p\":211.5,\"s\":196,\"t\":1594217527406000000,\"c\":null,\"z\":3}}\n",
      "{\"stream\":\"T.MSFT\",\"data\":{\"ev\":\"T\",\"T\":\"MSFT\",\"i\":\"1426\",\"x\":2,\"p\":211.5,\"s\":100,\"t\":1594217527407000000,\"c\":null,\"z\":3}}\n",
      "{\"stream\":\"T.MSFT\",\"data\":{\"ev\":\"T\",\"T\":\"MSFT\",\"i\":\"1427\",\"x\":2,\"p\":211.48,\"s\":5,\"t\":1594217527417000000,\"c\":[14,37,41],\"z\":3}}\n"
     ]
    }
   ],
   "source": [
    "ws.run_forever()"
   ]
  },
  {
   "cell_type": "code",
   "execution_count": null,
   "metadata": {},
   "outputs": [],
   "source": []
  }
 ],
 "metadata": {
  "kernelspec": {
   "display_name": "Python 3",
   "language": "python",
   "name": "python3"
  },
  "language_info": {
   "codemirror_mode": {
    "name": "ipython",
    "version": 3
   },
   "file_extension": ".py",
   "mimetype": "text/x-python",
   "name": "python",
   "nbconvert_exporter": "python",
   "pygments_lexer": "ipython3",
   "version": "3.7.3"
  }
 },
 "nbformat": 4,
 "nbformat_minor": 4
}
