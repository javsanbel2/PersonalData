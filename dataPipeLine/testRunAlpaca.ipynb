{
 "cells": [
  {
   "cell_type": "code",
   "execution_count": 1,
   "metadata": {},
   "outputs": [],
   "source": [
    "from kafka import KafkaProducer,KafkaClient\n",
    "import time\n",
    "import json\n",
    "import websocket\n",
    "#LOCAL IMPORTS\n",
    "import config as myCred"
   ]
  },
  {
   "cell_type": "code",
   "execution_count": 2,
   "metadata": {},
   "outputs": [],
   "source": [
    "#functions for API connnection\n",
    "\n",
    "startTime =time.time()\n",
    "limit=5\n",
    "\n",
    "def onOpen(ws):\n",
    "    print(\"connection Opened\")\n",
    "    auth_data={\n",
    "        \"action\": \"authenticate\",\n",
    "        \"data\": {\"key_id\": myCred.API_KEY, \"secret_key\": myCred.SECRET_KEY}\n",
    "    }\n",
    "    \n",
    "    ws.send(json.dumps(auth_data))\n",
    "    \n",
    "    listenMsg = {\n",
    "        \"action\": \"listen\", \n",
    "        \"data\": {\"streams\": [\"T.SPY\"]}\n",
    "    }\n",
    "    \n",
    "    \n",
    "    \n",
    "    ws.send(json.dumps(listenMsg))\n",
    "    \n",
    "\n",
    "def onMsg(ws,message):\n",
    "    if(time.time()-startTime)<30:\n",
    "        producer.send(topicName, message.encode('utf-8'))\n",
    "        #print(\"recieved a message\")\n",
    "        print(message)\n",
    "        return True\n",
    "    else:\n",
    "        ws.close()\n",
    "    \n",
    "    \n",
    "def onClose(ws):\n",
    "    print(\"connection Closed\")"
   ]
  },
  {
   "cell_type": "code",
   "execution_count": 3,
   "metadata": {},
   "outputs": [],
   "source": [
    "socket = \"wss://data.alpaca.markets/stream\"\n",
    "ws = websocket.WebSocketApp(socket,on_open=onOpen, on_close=onClose, on_message=onMsg)\n",
    "producer=KafkaProducer(bootstrap_servers=\" localhost:9092\")\n",
    "topicName=\"spyData\""
   ]
  },
  {
   "cell_type": "code",
   "execution_count": 4,
   "metadata": {
    "scrolled": true
   },
   "outputs": [
    {
     "name": "stdout",
     "output_type": "stream",
     "text": [
      "connection Opened\n",
      "{\"stream\":\"authorization\",\"data\":{\"action\":\"authenticate\",\"status\":\"authorized\"}}\n",
      "{\"stream\":\"listening\",\"data\":{\"streams\":[\"T.SPY\"]}}\n",
      "{\"stream\":\"T.SPY\",\"data\":{\"ev\":\"T\",\"T\":\"SPY\",\"i\":\"3472328455209963103\",\"x\":15,\"p\":304.36,\"s\":100,\"t\":1593100891220000000,\"c\":null,\"z\":1}}\n",
      "{\"stream\":\"T.SPY\",\"data\":{\"ev\":\"T\",\"T\":\"SPY\",\"i\":\"3472328455210823528\",\"x\":15,\"p\":304.36,\"s\":100,\"t\":1593100892386000000,\"c\":null,\"z\":1}}\n",
      "{\"stream\":\"T.SPY\",\"data\":{\"ev\":\"T\",\"T\":\"SPY\",\"i\":\"3472328455210823739\",\"x\":15,\"p\":304.36,\"s\":100,\"t\":1593100892386000000,\"c\":null,\"z\":1}}\n",
      "{\"stream\":\"T.SPY\",\"data\":{\"ev\":\"T\",\"T\":\"SPY\",\"i\":\"3472338191851019578\",\"x\":2,\"p\":304.385,\"s\":100,\"t\":1593100893065000000,\"c\":null,\"z\":1}}\n",
      "{\"stream\":\"T.SPY\",\"data\":{\"ev\":\"T\",\"T\":\"SPY\",\"i\":\"52983526339639\",\"x\":3,\"p\":304.42,\"s\":100,\"t\":1593100893732000000,\"c\":[14,41],\"z\":1}}\n",
      "{\"stream\":\"T.SPY\",\"data\":{\"ev\":\"T\",\"T\":\"SPY\",\"i\":\"3472338191851019609\",\"x\":2,\"p\":304.4,\"s\":8,\"t\":1593100893732000000,\"c\":[14,37,41],\"z\":1}}\n",
      "{\"stream\":\"T.SPY\",\"data\":{\"ev\":\"T\",\"T\":\"SPY\",\"i\":\"3472338191835937387\",\"x\":17,\"p\":304.46,\"s\":30,\"t\":1593100899758000000,\"c\":[14,37,41],\"z\":1}}\n",
      "{\"stream\":\"T.SPY\",\"data\":{\"ev\":\"T\",\"T\":\"SPY\",\"i\":\"3472338191835937586\",\"x\":17,\"p\":304.49,\"s\":13,\"t\":1593100900275000000,\"c\":[14,37,41],\"z\":1}}\n",
      "{\"stream\":\"T.SPY\",\"data\":{\"ev\":\"T\",\"T\":\"SPY\",\"i\":\"3472338191851020642\",\"x\":2,\"p\":304.49,\"s\":9,\"t\":1593100900275000000,\"c\":[14,37,41],\"z\":1}}\n",
      "{\"stream\":\"T.SPY\",\"data\":{\"ev\":\"T\",\"T\":\"SPY\",\"i\":\"3472338191835937610\",\"x\":17,\"p\":304.44,\"s\":2,\"t\":1593100901147000000,\"c\":[37],\"z\":1}}\n",
      "{\"stream\":\"T.SPY\",\"data\":{\"ev\":\"T\",\"T\":\"SPY\",\"i\":\"52983526339667\",\"x\":3,\"p\":304.41,\"s\":1,\"t\":1593100902925000000,\"c\":[14,37,41],\"z\":1}}\n",
      "{\"stream\":\"T.SPY\",\"data\":{\"ev\":\"T\",\"T\":\"SPY\",\"i\":\"3472328455261347140\",\"x\":15,\"p\":304.45,\"s\":300,\"t\":1593100907230000000,\"c\":null,\"z\":1}}\n"
     ]
    }
   ],
   "source": [
    "ws.run_forever()"
   ]
  },
  {
   "cell_type": "code",
   "execution_count": null,
   "metadata": {},
   "outputs": [],
   "source": []
  }
 ],
 "metadata": {
  "kernelspec": {
   "display_name": "Python 3",
   "language": "python",
   "name": "python3"
  },
  "language_info": {
   "codemirror_mode": {
    "name": "ipython",
    "version": 3
   },
   "file_extension": ".py",
   "mimetype": "text/x-python",
   "name": "python",
   "nbconvert_exporter": "python",
   "pygments_lexer": "ipython3",
   "version": "3.7.3"
  }
 },
 "nbformat": 4,
 "nbformat_minor": 4
}
