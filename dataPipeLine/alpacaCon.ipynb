{
 "cells": [
  {
   "cell_type": "code",
   "execution_count": 1,
   "metadata": {
    "scrolled": true
   },
   "outputs": [
    {
     "data": {
      "text/html": [
       "\n",
       "        <div>\n",
       "            <p><b>SparkContext</b></p>\n",
       "\n",
       "            <p><a href=\"http://Umer:4040\">Spark UI</a></p>\n",
       "\n",
       "            <dl>\n",
       "              <dt>Version</dt>\n",
       "                <dd><code>v2.4.4</code></dd>\n",
       "              <dt>Master</dt>\n",
       "                <dd><code>local[*]</code></dd>\n",
       "              <dt>AppName</dt>\n",
       "                <dd><code>appName</code></dd>\n",
       "            </dl>\n",
       "        </div>\n",
       "        "
      ],
      "text/plain": [
       "<SparkContext master=local[*] appName=appName>"
      ]
     },
     "execution_count": 1,
     "metadata": {},
     "output_type": "execute_result"
    }
   ],
   "source": [
    "from pyspark import SparkContext, SparkConf\n",
    "conf = SparkConf().setAppName(\"appName\")\n",
    "sc = SparkContext(conf=conf)\n",
    "from pyspark.sql import SQLContext, HiveContext\n",
    "sqlContext = SQLContext(sc)\n",
    "#sc.version\n",
    "#sqlContext\n",
    "sc"
   ]
  },
  {
   "cell_type": "code",
   "execution_count": 18,
   "metadata": {},
   "outputs": [],
   "source": [
    "#from pyspark.streaming.kafka import KafkaUtils\n",
    "#kafka = KafkaUtils.createStream()"
   ]
  },
  {
   "cell_type": "code",
   "execution_count": 29,
   "metadata": {
    "scrolled": true
   },
   "outputs": [
    {
     "name": "stdout",
     "output_type": "stream",
     "text": [
      "ConsumerRecord(topic='spyData', partition=0, offset=0, timestamp=1593018648146, timestamp_type=0, key=None, value=b'{\"stream\":\"T.SPY\",\"data\":{\"ev\":\"T\",\"T\":\"SPY\",\"i\":\"3472328506985769590\",\"x\":15,\"p\":304.965,\"s\":100,\"t\":1593018558069000000,\"c\":null,\"z\":1}}', headers=[], checksum=None, serialized_key_size=-1, serialized_value_size=138, serialized_header_size=-1)\n",
      "ConsumerRecord(topic='spyData', partition=0, offset=1, timestamp=1593018648521, timestamp_type=0, key=None, value=b'{\"stream\":\"T.SPY\",\"data\":{\"ev\":\"T\",\"T\":\"SPY\",\"i\":\"3472328506985899607\",\"x\":15,\"p\":304.96,\"s\":10,\"t\":1593018558452000000,\"c\":[37],\"z\":1}}', headers=[], checksum=None, serialized_key_size=-1, serialized_value_size=136, serialized_header_size=-1)\n",
      "ConsumerRecord(topic='spyData', partition=0, offset=2, timestamp=1593018736754, timestamp_type=0, key=None, value=b'{\"stream\":\"T.SPY\",\"data\":{\"ev\":\"T\",\"T\":\"SPY\",\"i\":\"52983525033804\",\"x\":9,\"p\":305.23,\"s\":2,\"t\":1593018646618000000,\"c\":[37],\"z\":1}}', headers=[], checksum=None, serialized_key_size=-1, serialized_value_size=129, serialized_header_size=-1)\n",
      "ConsumerRecord(topic='spyData', partition=0, offset=3, timestamp=1593018737965, timestamp_type=0, key=None, value=b'{\"stream\":\"T.SPY\",\"data\":{\"ev\":\"T\",\"T\":\"SPY\",\"i\":\"3472338191866814795\",\"x\":2,\"p\":305.23,\"s\":13,\"t\":1593018647918000000,\"c\":[37],\"z\":1}}', headers=[], checksum=None, serialized_key_size=-1, serialized_value_size=135, serialized_header_size=-1)\n",
      "ConsumerRecord(topic='spyData', partition=0, offset=4, timestamp=1593018740548, timestamp_type=0, key=None, value=b'{\"stream\":\"T.SPY\",\"data\":{\"ev\":\"T\",\"T\":\"SPY\",\"i\":\"3472338191866815063\",\"x\":2,\"p\":305.21,\"s\":12,\"t\":1593018650488000000,\"c\":[37],\"z\":1}}', headers=[], checksum=None, serialized_key_size=-1, serialized_value_size=135, serialized_header_size=-1)\n",
      "ConsumerRecord(topic='spyData', partition=0, offset=5, timestamp=1593018741166, timestamp_type=0, key=None, value=b'{\"stream\":\"T.SPY\",\"data\":{\"ev\":\"T\",\"T\":\"SPY\",\"i\":\"3472338191866815069\",\"x\":2,\"p\":305.21,\"s\":1,\"t\":1593018651104000000,\"c\":[37],\"z\":1}}', headers=[], checksum=None, serialized_key_size=-1, serialized_value_size=134, serialized_header_size=-1)\n",
      "ConsumerRecord(topic='spyData', partition=0, offset=6, timestamp=1593018741590, timestamp_type=0, key=None, value=b'{\"stream\":\"T.SPY\",\"data\":{\"ev\":\"T\",\"T\":\"SPY\",\"i\":\"3472338191849843546\",\"x\":17,\"p\":305.22,\"s\":41,\"t\":1593018651518000000,\"c\":[14,37,41],\"z\":1}}', headers=[], checksum=None, serialized_key_size=-1, serialized_value_size=142, serialized_header_size=-1)\n",
      "ConsumerRecord(topic='spyData', partition=0, offset=7, timestamp=1593018750980, timestamp_type=0, key=None, value=b'{\"stream\":\"T.SPY\",\"data\":{\"ev\":\"T\",\"T\":\"SPY\",\"i\":\"3472338191866815853\",\"x\":2,\"p\":305.2,\"s\":100,\"t\":1593018660635000000,\"c\":null,\"z\":1}}', headers=[], checksum=None, serialized_key_size=-1, serialized_value_size=135, serialized_header_size=-1)\n",
      "ConsumerRecord(topic='spyData', partition=0, offset=8, timestamp=1593018758898, timestamp_type=0, key=None, value=b'{\"stream\":\"T.SPY\",\"data\":{\"ev\":\"T\",\"T\":\"SPY\",\"i\":\"52983527198805\",\"x\":3,\"p\":305.17,\"s\":100,\"t\":1593018668819000000,\"c\":[14,41],\"z\":1}}', headers=[], checksum=None, serialized_key_size=-1, serialized_value_size=134, serialized_header_size=-1)\n",
      "ConsumerRecord(topic='spyData', partition=0, offset=9, timestamp=1593019234001, timestamp_type=0, key=None, value=b'{\"stream\":\"authorization\",\"data\":{\"action\":\"authenticate\",\"status\":\"authorized\"}}', headers=[], checksum=None, serialized_key_size=-1, serialized_value_size=81, serialized_header_size=-1)\n",
      "ConsumerRecord(topic='spyData', partition=0, offset=10, timestamp=1593019234002, timestamp_type=0, key=None, value=b'{\"stream\":\"listening\",\"data\":{\"streams\":[\"T.SPY\"]}}', headers=[], checksum=None, serialized_key_size=-1, serialized_value_size=51, serialized_header_size=-1)\n",
      "ConsumerRecord(topic='spyData', partition=0, offset=11, timestamp=1593019234863, timestamp_type=0, key=None, value=b'{\"stream\":\"T.SPY\",\"data\":{\"ev\":\"T\",\"T\":\"SPY\",\"i\":\"52983525034033\",\"x\":9,\"p\":305.1,\"s\":1700,\"t\":1593019144817000000,\"c\":[53,41],\"z\":1}}', headers=[], checksum=None, serialized_key_size=-1, serialized_value_size=134, serialized_header_size=-1)\n",
      "ConsumerRecord(topic='spyData', partition=0, offset=12, timestamp=1593019236327, timestamp_type=0, key=None, value=b'{\"stream\":\"T.SPY\",\"data\":{\"ev\":\"T\",\"T\":\"SPY\",\"i\":\"3472338191849968212\",\"x\":17,\"p\":305.12,\"s\":69,\"t\":1593019146205000000,\"c\":[14,37,41],\"z\":1}}', headers=[], checksum=None, serialized_key_size=-1, serialized_value_size=142, serialized_header_size=-1)\n",
      "ConsumerRecord(topic='spyData', partition=0, offset=13, timestamp=1593019236382, timestamp_type=0, key=None, value=b'{\"stream\":\"T.SPY\",\"data\":{\"ev\":\"T\",\"T\":\"SPY\",\"i\":\"3472338191867074651\",\"x\":2,\"p\":305.12,\"s\":15,\"t\":1593019146282000000,\"c\":[37],\"z\":1}}', headers=[], checksum=None, serialized_key_size=-1, serialized_value_size=135, serialized_header_size=-1)\n",
      "ConsumerRecord(topic='spyData', partition=0, offset=14, timestamp=1593019237542, timestamp_type=0, key=None, value=b'{\"stream\":\"T.SPY\",\"data\":{\"ev\":\"T\",\"T\":\"SPY\",\"i\":\"3472338191849968436\",\"x\":17,\"p\":305.08,\"s\":100,\"t\":1593019147374000000,\"c\":null,\"z\":1}}', headers=[], checksum=None, serialized_key_size=-1, serialized_value_size=137, serialized_header_size=-1)\n",
      "ConsumerRecord(topic='spyData', partition=0, offset=15, timestamp=1593019245981, timestamp_type=0, key=None, value=b'{\"stream\":\"T.SPY\",\"data\":{\"ev\":\"T\",\"T\":\"SPY\",\"i\":\"3472338191849968735\",\"x\":17,\"p\":305.2,\"s\":100,\"t\":1593019155880000000,\"c\":null,\"z\":1}}', headers=[], checksum=None, serialized_key_size=-1, serialized_value_size=136, serialized_header_size=-1)\n",
      "ConsumerRecord(topic='spyData', partition=0, offset=16, timestamp=1593019249995, timestamp_type=0, key=None, value=b'{\"stream\":\"T.SPY\",\"data\":{\"ev\":\"T\",\"T\":\"SPY\",\"i\":\"3472338191849968949\",\"x\":17,\"p\":305.16,\"s\":100,\"t\":1593019159918000000,\"c\":[14,41],\"z\":1}}', headers=[], checksum=None, serialized_key_size=-1, serialized_value_size=140, serialized_header_size=-1)\n",
      "ConsumerRecord(topic='spyData', partition=0, offset=17, timestamp=1593019250077, timestamp_type=0, key=None, value=b'{\"stream\":\"T.SPY\",\"data\":{\"ev\":\"T\",\"T\":\"SPY\",\"i\":\"3472328511566002746\",\"x\":15,\"p\":305.145,\"s\":100,\"t\":1593019160017000000,\"c\":null,\"z\":1}}', headers=[], checksum=None, serialized_key_size=-1, serialized_value_size=138, serialized_header_size=-1)\n",
      "ConsumerRecord(topic='spyData', partition=0, offset=18, timestamp=1593019259943, timestamp_type=0, key=None, value=b'{\"stream\":\"T.SPY\",\"data\":{\"ev\":\"T\",\"T\":\"SPY\",\"i\":\"3472338191849969241\",\"x\":17,\"p\":305.16,\"s\":85,\"t\":1593019169871000000,\"c\":[37],\"z\":1}}', headers=[], checksum=None, serialized_key_size=-1, serialized_value_size=136, serialized_header_size=-1)\n",
      "ConsumerRecord(topic='spyData', partition=0, offset=19, timestamp=1593019552301, timestamp_type=0, key=None, value=b'{\"stream\":\"T.SPY\",\"data\":{\"ev\":\"T\",\"T\":\"SPY\",\"i\":\"3472328515357396051\",\"x\":15,\"p\":304.63,\"s\":100,\"t\":1593019462202000000,\"c\":null,\"z\":1}}', headers=[], checksum=None, serialized_key_size=-1, serialized_value_size=137, serialized_header_size=-1)\n",
      "ConsumerRecord(topic='spyData', partition=0, offset=20, timestamp=1593019552640, timestamp_type=0, key=None, value=b'{\"stream\":\"T.SPY\",\"data\":{\"ev\":\"T\",\"T\":\"SPY\",\"i\":\"3472338191867209546\",\"x\":2,\"p\":304.61,\"s\":100,\"t\":1593019462560000000,\"c\":[14,41],\"z\":1}}', headers=[], checksum=None, serialized_key_size=-1, serialized_value_size=139, serialized_header_size=-1)\n",
      "ConsumerRecord(topic='spyData', partition=0, offset=21, timestamp=1593019553792, timestamp_type=0, key=None, value=b'{\"stream\":\"T.SPY\",\"data\":{\"ev\":\"T\",\"T\":\"SPY\",\"i\":\"3472338191850032466\",\"x\":17,\"p\":304.65,\"s\":100,\"t\":1593019463673000000,\"c\":[14,41],\"z\":1}}', headers=[], checksum=None, serialized_key_size=-1, serialized_value_size=140, serialized_header_size=-1)\n",
      "ConsumerRecord(topic='spyData', partition=0, offset=22, timestamp=1593019558303, timestamp_type=0, key=None, value=b'{\"stream\":\"T.SPY\",\"data\":{\"ev\":\"T\",\"T\":\"SPY\",\"i\":\"52983527263301\",\"x\":3,\"p\":304.58,\"s\":2,\"t\":1593019468234000000,\"c\":[37],\"z\":1}}', headers=[], checksum=None, serialized_key_size=-1, serialized_value_size=129, serialized_header_size=-1)\n",
      "ConsumerRecord(topic='spyData', partition=0, offset=23, timestamp=1593019561951, timestamp_type=0, key=None, value=b'{\"stream\":\"T.SPY\",\"data\":{\"ev\":\"T\",\"T\":\"SPY\",\"i\":\"3472338191850032747\",\"x\":17,\"p\":304.56,\"s\":100,\"t\":1593019471843000000,\"c\":null,\"z\":1}}', headers=[], checksum=None, serialized_key_size=-1, serialized_value_size=137, serialized_header_size=-1)\n",
      "ConsumerRecord(topic='spyData', partition=0, offset=24, timestamp=1593020166607, timestamp_type=0, key=None, value=b'{\"stream\":\"T.SPY\",\"data\":{\"ev\":\"T\",\"T\":\"SPY\",\"i\":\"3472328520123561281\",\"x\":15,\"p\":303.575,\"s\":100,\"t\":1593020076556000000,\"c\":null,\"z\":1}}', headers=[], checksum=None, serialized_key_size=-1, serialized_value_size=138, serialized_header_size=-1)\n",
      "ConsumerRecord(topic='spyData', partition=0, offset=25, timestamp=1593020169226, timestamp_type=0, key=None, value=b'{\"stream\":\"T.SPY\",\"data\":{\"ev\":\"T\",\"T\":\"SPY\",\"i\":\"52983527328340\",\"x\":3,\"p\":303.58,\"s\":100,\"t\":1593020079099000000,\"c\":[14,41],\"z\":1}}', headers=[], checksum=None, serialized_key_size=-1, serialized_value_size=134, serialized_header_size=-1)\n",
      "ConsumerRecord(topic='spyData', partition=0, offset=26, timestamp=1593020169256, timestamp_type=0, key=None, value=b'{\"stream\":\"T.SPY\",\"data\":{\"ev\":\"T\",\"T\":\"SPY\",\"i\":\"3472338191850170673\",\"x\":17,\"p\":303.58,\"s\":100,\"t\":1593020079160000000,\"c\":null,\"z\":1}}', headers=[], checksum=None, serialized_key_size=-1, serialized_value_size=137, serialized_header_size=-1)\n",
      "ConsumerRecord(topic='spyData', partition=0, offset=27, timestamp=1593020169405, timestamp_type=0, key=None, value=b'{\"stream\":\"T.SPY\",\"data\":{\"ev\":\"T\",\"T\":\"SPY\",\"i\":\"3472338191850170678\",\"x\":17,\"p\":303.58,\"s\":100,\"t\":1593020079343000000,\"c\":null,\"z\":1}}', headers=[], checksum=None, serialized_key_size=-1, serialized_value_size=137, serialized_header_size=-1)\n",
      "ConsumerRecord(topic='spyData', partition=0, offset=28, timestamp=1593020169720, timestamp_type=0, key=None, value=b'{\"stream\":\"T.SPY\",\"data\":{\"ev\":\"T\",\"T\":\"SPY\",\"i\":\"52983527328341\",\"x\":3,\"p\":303.59,\"s\":30,\"t\":1593020079683000000,\"c\":[37],\"z\":1}}', headers=[], checksum=None, serialized_key_size=-1, serialized_value_size=130, serialized_header_size=-1)\n",
      "ConsumerRecord(topic='spyData', partition=0, offset=29, timestamp=1593075019281, timestamp_type=0, key=None, value=b'{\"stream\":\"authorization\",\"data\":{\"action\":\"authenticate\",\"status\":\"authorized\"}}', headers=[], checksum=None, serialized_key_size=-1, serialized_value_size=81, serialized_header_size=-1)\n",
      "ConsumerRecord(topic='spyData', partition=0, offset=30, timestamp=1593085505188, timestamp_type=0, key=None, value=b'{\"stream\":\"authorization\",\"data\":{\"action\":\"authenticate\",\"status\":\"authorized\"}}', headers=[], checksum=None, serialized_key_size=-1, serialized_value_size=81, serialized_header_size=-1)\n",
      "ConsumerRecord(topic='spyData', partition=0, offset=31, timestamp=1593085505189, timestamp_type=0, key=None, value=b'{\"stream\":\"listening\",\"data\":{\"streams\":[\"T.SPY\"]}}', headers=[], checksum=None, serialized_key_size=-1, serialized_value_size=51, serialized_header_size=-1)\n",
      "ConsumerRecord(topic='spyData', partition=0, offset=32, timestamp=1593085849889, timestamp_type=0, key=None, value=b'{\"stream\":\"authorization\",\"data\":{\"action\":\"authenticate\",\"status\":\"authorized\"}}', headers=[], checksum=None, serialized_key_size=-1, serialized_value_size=81, serialized_header_size=-1)\n",
      "ConsumerRecord(topic='spyData', partition=0, offset=33, timestamp=1593089450468, timestamp_type=0, key=None, value=b'{\"stream\":\"listening\",\"data\":{\"streams\":[\"T.SPY\"]}}', headers=[], checksum=None, serialized_key_size=-1, serialized_value_size=51, serialized_header_size=-1)\n",
      "ConsumerRecord(topic='spyData', partition=0, offset=34, timestamp=1593089523187, timestamp_type=0, key=None, value=b'{\"stream\":\"listening\",\"data\":{\"streams\":[\"T.SPY\"]}}', headers=[], checksum=None, serialized_key_size=-1, serialized_value_size=51, serialized_header_size=-1)\n",
      "ConsumerRecord(topic='spyData', partition=0, offset=35, timestamp=1593092761967, timestamp_type=0, key=None, value=b'{\"stream\":\"authorization\",\"data\":{\"action\":\"authenticate\",\"status\":\"authorized\"}}', headers=[], checksum=None, serialized_key_size=-1, serialized_value_size=81, serialized_header_size=-1)\n",
      "ConsumerRecord(topic='spyData', partition=0, offset=36, timestamp=1593092761969, timestamp_type=0, key=None, value=b'{\"stream\":\"listening\",\"data\":{\"streams\":[\"T.SPY\"]}}', headers=[], checksum=None, serialized_key_size=-1, serialized_value_size=51, serialized_header_size=-1)\n",
      "ConsumerRecord(topic='spyData', partition=0, offset=37, timestamp=1593092766415, timestamp_type=0, key=None, value=b'{\"stream\":\"T.SPY\",\"data\":{\"ev\":\"T\",\"T\":\"SPY\",\"i\":\"3472338191833393463\",\"x\":2,\"p\":301.84,\"s\":100,\"t\":1593092675910000000,\"c\":null,\"z\":1}}', headers=[], checksum=None, serialized_key_size=-1, serialized_value_size=136, serialized_header_size=-1)\n",
      "ConsumerRecord(topic='spyData', partition=0, offset=38, timestamp=1593092770804, timestamp_type=0, key=None, value=b'{\"stream\":\"T.SPY\",\"data\":{\"ev\":\"T\",\"T\":\"SPY\",\"i\":\"3472338191833123925\",\"x\":17,\"p\":301.88,\"s\":100,\"t\":1593092680248000000,\"c\":[14,41],\"z\":1}}', headers=[], checksum=None, serialized_key_size=-1, serialized_value_size=140, serialized_header_size=-1)\n",
      "ConsumerRecord(topic='spyData', partition=0, offset=39, timestamp=1593092770806, timestamp_type=0, key=None, value=b'{\"stream\":\"T.SPY\",\"data\":{\"ev\":\"T\",\"T\":\"SPY\",\"i\":\"3472328318457573446\",\"x\":15,\"p\":301.88,\"s\":100,\"t\":1593092680249000000,\"c\":null,\"z\":1}}', headers=[], checksum=None, serialized_key_size=-1, serialized_value_size=137, serialized_header_size=-1)\n",
      "ConsumerRecord(topic='spyData', partition=0, offset=40, timestamp=1593092771744, timestamp_type=0, key=None, value=b'{\"stream\":\"T.SPY\",\"data\":{\"ev\":\"T\",\"T\":\"SPY\",\"i\":\"3472338191833123939\",\"x\":17,\"p\":301.86,\"s\":1,\"t\":1593092681198000000,\"c\":[37],\"z\":1}}', headers=[], checksum=None, serialized_key_size=-1, serialized_value_size=135, serialized_header_size=-1)\n",
      "ConsumerRecord(topic='spyData', partition=0, offset=41, timestamp=1593092772088, timestamp_type=0, key=None, value=b'{\"stream\":\"T.SPY\",\"data\":{\"ev\":\"T\",\"T\":\"SPY\",\"i\":\"3472338191833123942\",\"x\":17,\"p\":301.88,\"s\":100,\"t\":1593092681329000000,\"c\":[14,41],\"z\":1}}', headers=[], checksum=None, serialized_key_size=-1, serialized_value_size=140, serialized_header_size=-1)\n",
      "ConsumerRecord(topic='spyData', partition=0, offset=42, timestamp=1593092772091, timestamp_type=0, key=None, value=b'{\"stream\":\"T.SPY\",\"data\":{\"ev\":\"T\",\"T\":\"SPY\",\"i\":\"3472338191833394236\",\"x\":2,\"p\":301.89,\"s\":88,\"t\":1593092681332000000,\"c\":[37],\"z\":1}}', headers=[], checksum=None, serialized_key_size=-1, serialized_value_size=135, serialized_header_size=-1)\n",
      "ConsumerRecord(topic='spyData', partition=0, offset=43, timestamp=1593092772096, timestamp_type=0, key=None, value=b'{\"stream\":\"T.SPY\",\"data\":{\"ev\":\"T\",\"T\":\"SPY\",\"i\":\"3472338191833394234\",\"x\":2,\"p\":301.9,\"s\":5,\"t\":1593092681332000000,\"c\":[37],\"z\":1}}', headers=[], checksum=None, serialized_key_size=-1, serialized_value_size=133, serialized_header_size=-1)\n",
      "ConsumerRecord(topic='spyData', partition=0, offset=44, timestamp=1593092772099, timestamp_type=0, key=None, value=b'{\"stream\":\"T.SPY\",\"data\":{\"ev\":\"T\",\"T\":\"SPY\",\"i\":\"3472338191833124150\",\"x\":17,\"p\":301.91,\"s\":1,\"t\":1593092681332000000,\"c\":[37],\"z\":1}}', headers=[], checksum=None, serialized_key_size=-1, serialized_value_size=135, serialized_header_size=-1)\n",
      "ConsumerRecord(topic='spyData', partition=0, offset=45, timestamp=1593092777256, timestamp_type=0, key=None, value=b'{\"stream\":\"T.SPY\",\"data\":{\"ev\":\"T\",\"T\":\"SPY\",\"i\":\"3472338191833124669\",\"x\":17,\"p\":301.87,\"s\":1,\"t\":1593092686572000000,\"c\":[37],\"z\":1}}', headers=[], checksum=None, serialized_key_size=-1, serialized_value_size=135, serialized_header_size=-1)\n",
      "ConsumerRecord(topic='spyData', partition=0, offset=46, timestamp=1593092777260, timestamp_type=0, key=None, value=b'{\"stream\":\"T.SPY\",\"data\":{\"ev\":\"T\",\"T\":\"SPY\",\"i\":\"3472338191833124675\",\"x\":17,\"p\":301.86,\"s\":100,\"t\":1593092686581000000,\"c\":[14,41],\"z\":1}}', headers=[], checksum=None, serialized_key_size=-1, serialized_value_size=140, serialized_header_size=-1)\n",
      "ConsumerRecord(topic='spyData', partition=0, offset=47, timestamp=1593092781509, timestamp_type=0, key=None, value=b'{\"stream\":\"T.SPY\",\"data\":{\"ev\":\"T\",\"T\":\"SPY\",\"i\":\"3472338191833444963\",\"x\":2,\"p\":301.94,\"s\":4,\"t\":1593092690983000000,\"c\":[14,37,41],\"z\":1}}', headers=[], checksum=None, serialized_key_size=-1, serialized_value_size=140, serialized_header_size=-1)\n",
      "ConsumerRecord(topic='spyData', partition=0, offset=48, timestamp=1593092782021, timestamp_type=0, key=None, value=b'{\"stream\":\"T.SPY\",\"data\":{\"ev\":\"T\",\"T\":\"SPY\",\"i\":\"3472338191833445181\",\"x\":2,\"p\":301.95,\"s\":4,\"t\":1593092691522000000,\"c\":[37],\"z\":1}}', headers=[], checksum=None, serialized_key_size=-1, serialized_value_size=134, serialized_header_size=-1)\n",
      "ConsumerRecord(topic='spyData', partition=0, offset=49, timestamp=1593092782040, timestamp_type=0, key=None, value=b'{\"stream\":\"T.SPY\",\"data\":{\"ev\":\"T\",\"T\":\"SPY\",\"i\":\"3472338191833125202\",\"x\":17,\"p\":301.95,\"s\":4,\"t\":1593092691522000000,\"c\":[37],\"z\":1}}', headers=[], checksum=None, serialized_key_size=-1, serialized_value_size=135, serialized_header_size=-1)\n",
      "ConsumerRecord(topic='spyData', partition=0, offset=50, timestamp=1593092787954, timestamp_type=0, key=None, value=b'{\"stream\":\"T.SPY\",\"data\":{\"ev\":\"T\",\"T\":\"SPY\",\"i\":\"3472338191833125998\",\"x\":17,\"p\":302,\"s\":20,\"t\":1593092697436000000,\"c\":[14,37,41],\"z\":1}}', headers=[], checksum=None, serialized_key_size=-1, serialized_value_size=139, serialized_header_size=-1)\n",
      "ConsumerRecord(topic='spyData', partition=0, offset=51, timestamp=1593092788244, timestamp_type=0, key=None, value=b'{\"stream\":\"T.SPY\",\"data\":{\"ev\":\"T\",\"T\":\"SPY\",\"i\":\"3472338191833446475\",\"x\":2,\"p\":302.04,\"s\":100,\"t\":1593092697666000000,\"c\":[14,41],\"z\":1}}', headers=[], checksum=None, serialized_key_size=-1, serialized_value_size=139, serialized_header_size=-1)\n",
      "ConsumerRecord(topic='spyData', partition=0, offset=52, timestamp=1593092789043, timestamp_type=0, key=None, value=b'{\"stream\":\"T.SPY\",\"data\":{\"ev\":\"T\",\"T\":\"SPY\",\"i\":\"52983525101905\",\"x\":3,\"p\":302.02,\"s\":100,\"t\":1593092698504000000,\"c\":null,\"z\":1}}', headers=[], checksum=None, serialized_key_size=-1, serialized_value_size=131, serialized_header_size=-1)\n"
     ]
    }
   ],
   "source": [
    "from kafka import KafkaConsumer,TopicPartition\n",
    "import json\n",
    "\n",
    "topicName=\"spyData\"\n",
    "consumer = KafkaConsumer(bootstrap_servers=['localhost:9092'])\n",
    "tp = TopicPartition(topicName,0)\n",
    "#register to the topic\n",
    "consumer.assign([tp])\n",
    "\n",
    "# obtain the last offset value\n",
    "consumer.seek_to_end(tp)\n",
    "lastOffset = consumer.position(tp)\n",
    "\n",
    "consumer.seek_to_beginning(tp)\n",
    "for message in consumer:\n",
    "    print(message)\n",
    "    if message.offset == lastOffset - 1:\n",
    "        break"
   ]
  },
  {
   "cell_type": "code",
   "execution_count": 4,
   "metadata": {},
   "outputs": [],
   "source": [
    "streamingInputData = sqlContext\\\n",
    "                    .readStream\\\n",
    "                    .format(\"kafka\")\\\n",
    "                    .option(\"kafka.bootstrap.servers\",\"localhost:9092\")\\\n",
    "                    .option(\"subscribe\",\"spyData\")\\\n",
    "                    .load()\n",
    "#streamingInputData.selectExpr(\"CAST(key AS STRING)\", \"CAST(value AS STRING)\")"
   ]
  },
  {
   "cell_type": "code",
   "execution_count": 5,
   "metadata": {},
   "outputs": [
    {
     "data": {
      "text/plain": [
       "<bound method DataFrame.printSchema of DataFrame[key: binary, value: binary, topic: string, partition: int, offset: bigint, timestamp: timestamp, timestampType: int]>"
      ]
     },
     "execution_count": 5,
     "metadata": {},
     "output_type": "execute_result"
    }
   ],
   "source": [
    "streamingInputData.printSchema"
   ]
  },
  {
   "cell_type": "code",
   "execution_count": 6,
   "metadata": {},
   "outputs": [],
   "source": [
    "import json"
   ]
  },
  {
   "cell_type": "code",
   "execution_count": null,
   "metadata": {},
   "outputs": [],
   "source": [
    "selectDF = streamingInputData.select(get_json_object($\"value\").cast)"
   ]
  }
 ],
 "metadata": {
  "kernelspec": {
   "display_name": "Python 3",
   "language": "python",
   "name": "python3"
  },
  "language_info": {
   "codemirror_mode": {
    "name": "ipython",
    "version": 3
   },
   "file_extension": ".py",
   "mimetype": "text/x-python",
   "name": "python",
   "nbconvert_exporter": "python",
   "pygments_lexer": "ipython3",
   "version": "3.7.3"
  }
 },
 "nbformat": 4,
 "nbformat_minor": 2
}
