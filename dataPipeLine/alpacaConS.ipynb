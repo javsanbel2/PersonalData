{
 "cells": [
  {
   "cell_type": "code",
   "execution_count": 1,
   "metadata": {},
   "outputs": [
    {
     "data": {
      "text/plain": [
       "Intitializing Scala interpreter ..."
      ]
     },
     "metadata": {},
     "output_type": "display_data"
    },
    {
     "data": {
      "text/plain": [
       "Spark Web UI available at http://Umer:4040\n",
       "SparkContext available as 'sc' (version = 2.4.4, master = local[*], app id = local-1593600087231)\n",
       "SparkSession available as 'spark'\n"
      ]
     },
     "metadata": {},
     "output_type": "display_data"
    },
    {
     "name": "stdout",
     "output_type": "stream",
     "text": [
      "root\n",
      " |-- t: string (nullable = true)\n",
      " |-- p: double (nullable = false)\n",
      " |-- x: integer (nullable = false)\n",
      " |-- s: integer (nullable = false)\n",
      " |-- dt: timestamp (nullable = true)\n",
      "\n"
     ]
    },
    {
     "data": {
      "text/plain": [
       "import org.apache.kafka.clients.consumer.ConsumerRecord\r\n",
       "import org.apache.kafka.common.serialization.StringDeserializer\r\n",
       "import org.apache.spark.streaming._\r\n",
       "import org.apache.spark.sql.types._\r\n",
       "import org.apache.spark.sql.DataFrame\r\n",
       "import org.apache.spark.sql.functions._\r\n",
       "import java.sql.Timestamp\r\n",
       "someDF: org.apache.spark.sql.DataFrame = [t: string, p: double ... 3 more fields]\n"
      ]
     },
     "execution_count": 1,
     "metadata": {},
     "output_type": "execute_result"
    }
   ],
   "source": [
    "import org.apache.kafka.clients.consumer.ConsumerRecord\n",
    "import org.apache.kafka.common.serialization.StringDeserializer\n",
    "import org.apache.spark.streaming._\n",
    "import org.apache.spark.sql.types._\n",
    "import org.apache.spark.sql.DataFrame\n",
    "import org.apache.spark.sql.functions._\n",
    "import java.sql.Timestamp\n",
    "\n",
    "//dummpy data for test\n",
    "val someDF = Seq((\"LOLL\",287.33,17,2, Timestamp.valueOf(\"2020-06-29 15:26:48\"))).toDF(\"t\", \"p\",\"x\",\"s\",\"dt\")\n",
    "someDF.printSchema"
   ]
  },
  {
   "cell_type": "code",
   "execution_count": 2,
   "metadata": {},
   "outputs": [
    {
     "name": "stdout",
     "output_type": "stream",
     "text": [
      "root\n",
      " |-- key: binary (nullable = true)\n",
      " |-- value: binary (nullable = true)\n",
      " |-- topic: string (nullable = true)\n",
      " |-- partition: integer (nullable = true)\n",
      " |-- offset: long (nullable = true)\n",
      " |-- timestamp: timestamp (nullable = true)\n",
      " |-- timestampType: integer (nullable = true)\n",
      "\n",
      "root\n",
      " |-- ticker: string (nullable = true)\n",
      " |-- price: double (nullable = true)\n",
      " |-- exchange_id: integer (nullable = true)\n",
      " |-- trade_size: integer (nullable = true)\n",
      " |-- date_time: timestamp (nullable = true)\n",
      "\n",
      "+------+--------+-----------+----------+--------------------+\n",
      "|ticker|   price|exchange_id|trade_size|           date_time|\n",
      "+------+--------+-----------+----------+--------------------+\n",
      "|  MSFT|  201.25|          3|         9|2020-06-30 17:01:...|\n",
      "|  TSLA| 1079.94|         15|        57|2020-06-30 17:01:...|\n",
      "|  TSLA| 1080.17|         17|        98|2020-06-30 17:01:...|\n",
      "|  TSLA| 1080.08|         17|         2|2020-06-30 17:01:...|\n",
      "|  TSLA| 1079.76|         17|         2|2020-06-30 17:01:...|\n",
      "|  TSLA| 1079.76|         17|         2|2020-06-30 17:01:...|\n",
      "|  TSLA| 1079.77|         17|         2|2020-06-30 17:01:...|\n",
      "|  TSLA|1080.365|         15|        20|2020-06-30 17:01:...|\n",
      "|  TSLA|1080.365|         15|         1|2020-06-30 17:01:...|\n",
      "|  TSLA| 1080.19|         17|         1|2020-06-30 17:01:...|\n",
      "|  TSLA|1080.365|         15|        20|2020-06-30 17:01:...|\n",
      "|  TSLA| 1080.55|         17|       100|2020-06-30 17:01:...|\n",
      "|  MSFT| 201.325|         15|       100|2020-06-30 17:01:...|\n",
      "|  TSLA| 1080.54|         17|        30|2020-06-30 17:01:...|\n",
      "|  TSLA| 1080.54|         17|        70|2020-06-30 17:01:...|\n",
      "|  AAPL|   365.5|          2|         8|2020-06-30 17:01:...|\n",
      "|  AAPL|   365.5|          2|        92|2020-06-30 17:01:...|\n",
      "|  AAPL|  364.83|          3|         6|2020-06-30 16:53:...|\n",
      "|  MSFT| 201.145|         15|        20|2020-06-30 16:53:...|\n",
      "|  MSFT|  201.16|         15|         3|2020-06-30 16:53:...|\n",
      "+------+--------+-----------+----------+--------------------+\n",
      "only showing top 20 rows\n",
      "\n"
     ]
    },
    {
     "data": {
      "text/plain": [
       "df: org.apache.spark.sql.DataFrame = [key: binary, value: binary ... 5 more fields]\r\n",
       "selectDF: org.apache.spark.sql.DataFrame = [ticker: string, price: string ... 3 more fields]\r\n",
       "temp: org.apache.spark.sql.DataFrame = [ticker: string, price: string ... 3 more fields]\r\n",
       "checkData: (df: org.apache.spark.sql.DataFrame)org.apache.spark.sql.DataFrame\r\n",
       "temp2: org.apache.spark.sql.DataFrame = [ticker: string, price: double ... 3 more fields]\n"
      ]
     },
     "execution_count": 2,
     "metadata": {},
     "output_type": "execute_result"
    }
   ],
   "source": [
    "//reading data from spark and extracting required data\n",
    "val df = spark\n",
    "  .read\n",
    "  .format(\"kafka\")\n",
    "  .option(\"kafka.bootstrap.servers\", \"localhost:9092\")\n",
    "  .option(\"subscribe\", \"stockData\")\n",
    "  .load()\n",
    "df.printSchema\n",
    "\n",
    "val selectDF = df.select(get_json_object(($\"value\").cast(\"string\"),\"$.data.T\").alias(\"ticker\"),\n",
    "                         get_json_object(($\"value\").cast(\"string\"),\"$.data.p\").alias(\"price\"),\n",
    "                         get_json_object(($\"value\").cast(\"string\"),\"$.data.x\").alias(\"exchange_id\"),\n",
    "                         get_json_object(($\"value\").cast(\"string\"),\"$.data.s\").alias(\"trade_size\"),\n",
    "                         get_json_object(($\"value\").cast(\"string\"),\"$.data.t\").alias(\"date_time\"))\n",
    "//drop all rows with null values\n",
    "val temp = selectDF.na.drop()\n",
    "// if null removes properly\n",
    "if(temp.count == selectDF.count){\n",
    "    println(\"error null rows in the dataset\")\n",
    "}\n",
    "//function to re-affirm dataType\n",
    "def checkData(df: DataFrame): DataFrame = {\n",
    "    var tmpDf = df.schema(\"date_time\").dataType match {\n",
    "        case StringType => df.withColumn(\"date_time\", ((col(\"date_time\").cast(\"Long\"))/1000000000).cast(\"timestamp\"))\n",
    "        case LongType => df.withColumn(\"date_time\",(col(\"date_time\")/1000000000).cast(\"timestamp\"))\n",
    "        case _ => df\n",
    "    }\n",
    "    tmpDf = tmpDf.schema(\"price\").dataType match {\n",
    "        case StringType => tmpDf.withColumn(\"price\",col(\"price\").cast(\"Double\"))\n",
    "        case _ => tmpDf\n",
    "    }\n",
    "    tmpDf = tmpDf.schema(\"exchange_id\").dataType match {\n",
    "        case StringType => tmpDf.withColumn(\"exchange_id\",col(\"exchange_id\").cast(\"Int\"))\n",
    "        case _ => tmpDf\n",
    "    }\n",
    "    tmpDf = tmpDf.schema(\"trade_size\").dataType match {\n",
    "        case StringType => tmpDf.withColumn(\"trade_size\",col(\"trade_size\").cast(\"Int\"))\n",
    "        case _ => tmpDf\n",
    "    }\n",
    "    return tmpDf.toDF\n",
    "}\n",
    "\n",
    "val temp2 = checkData(temp)\n",
    "temp2.printSchema\n",
    "\n",
    "//testing with dummy data\n",
    "assert(someDF.schema(\"dt\").dataType == temp2.schema(\"date_time\").dataType)\n",
    "assert(someDF.schema(\"t\").dataType == temp2.schema(\"ticker\").dataType)\n",
    "assert(someDF.schema(\"p\").dataType == temp2.schema(\"price\").dataType)\n",
    "assert(someDF.schema(\"x\").dataType == temp2.schema(\"exchange_id\").dataType)\n",
    "assert(someDF.schema(\"s\").dataType == temp2.schema(\"trade_size\").dataType)\n",
    "\n",
    "temp2.sort(desc(\"date_time\")).show"
   ]
  },
  {
   "cell_type": "code",
   "execution_count": 3,
   "metadata": {},
   "outputs": [
    {
     "name": "stdout",
     "output_type": "stream",
     "text": [
      "+------+-------+-----------+----------+--------------------+\n",
      "|ticker|  price|exchange_id|trade_size|           date_time|\n",
      "+------+-------+-----------+----------+--------------------+\n",
      "|  AAPL|  365.5|          2|        92|2020-06-30 17:01:...|\n",
      "|  AAPL|  365.5|          2|         8|2020-06-30 17:01:...|\n",
      "|  AAPL| 364.83|          3|         6|2020-06-30 16:53:...|\n",
      "|  AAPL|364.795|         15|         1|2020-06-30 16:53:...|\n",
      "|  AAPL| 364.81|         15|       100|2020-06-30 16:53:...|\n",
      "|  AAPL| 364.81|         15|       100|2020-06-30 16:53:...|\n",
      "|  AAPL|364.735|         15|       165|2020-06-30 16:53:...|\n",
      "|  AAPL|364.735|         15|       200|2020-06-30 16:53:...|\n",
      "|  AAPL| 364.72|         15|         3|2020-06-30 16:53:...|\n",
      "|  AAPL| 364.72|         15|        10|2020-06-30 16:53:...|\n",
      "|  AAPL| 364.73|         15|         1|2020-06-30 16:53:...|\n",
      "|  AAPL|364.755|         15|       100|2020-06-30 16:53:...|\n",
      "|  AAPL|364.755|         15|       100|2020-06-30 16:53:...|\n",
      "|  AAPL|364.755|         15|         4|2020-06-30 16:53:...|\n",
      "|  AAPL| 364.74|         17|       100|2020-06-30 16:53:...|\n",
      "|  AAPL| 364.72|          3|         8|2020-06-30 16:53:...|\n",
      "|  AAPL| 364.72|          3|         8|2020-06-30 16:53:...|\n",
      "|  AAPL| 364.76|         15|        80|2020-06-30 16:53:...|\n",
      "|  AAPL| 364.77|         15|         2|2020-06-30 16:53:...|\n",
      "|  AAPL| 364.76|         15|        20|2020-06-30 16:53:...|\n",
      "+------+-------+-----------+----------+--------------------+\n",
      "only showing top 20 rows\n",
      "\n"
     ]
    },
    {
     "data": {
      "text/plain": [
       "APPL: Unit = ()\n"
      ]
     },
     "execution_count": 3,
     "metadata": {},
     "output_type": "execute_result"
    }
   ],
   "source": [
    "val APPL = temp2.filter(\"ticker == 'AAPL'\").sort(desc(\"date_time\")).show"
   ]
  },
  {
   "cell_type": "code",
   "execution_count": 4,
   "metadata": {},
   "outputs": [
    {
     "name": "stdout",
     "output_type": "stream",
     "text": [
      "+------+--------+-----------+----------+--------------------+\n",
      "|ticker|   price|exchange_id|trade_size|           date_time|\n",
      "+------+--------+-----------+----------+--------------------+\n",
      "|  TSLA| 1079.94|         15|        57|2020-06-30 17:01:...|\n",
      "|  TSLA| 1080.08|         17|         2|2020-06-30 17:01:...|\n",
      "|  TSLA| 1080.17|         17|        98|2020-06-30 17:01:...|\n",
      "|  TSLA| 1079.76|         17|         2|2020-06-30 17:01:...|\n",
      "|  TSLA| 1079.76|         17|         2|2020-06-30 17:01:...|\n",
      "|  TSLA| 1079.77|         17|         2|2020-06-30 17:01:...|\n",
      "|  TSLA|1080.365|         15|        20|2020-06-30 17:01:...|\n",
      "|  TSLA|1080.365|         15|         1|2020-06-30 17:01:...|\n",
      "|  TSLA| 1080.19|         17|         1|2020-06-30 17:01:...|\n",
      "|  TSLA|1080.365|         15|        20|2020-06-30 17:01:...|\n",
      "|  TSLA| 1080.55|         17|       100|2020-06-30 17:01:...|\n",
      "|  TSLA| 1080.54|         17|        30|2020-06-30 17:01:...|\n",
      "|  TSLA| 1080.54|         17|        70|2020-06-30 17:01:...|\n",
      "|  TSLA|  1075.0|         15|        77|2020-06-30 16:53:...|\n",
      "|  TSLA|  1075.0|         15|        23|2020-06-30 16:53:...|\n",
      "|  TSLA|  1075.0|         15|       100|2020-06-30 16:53:...|\n",
      "|  TSLA| 1075.31|         15|        42|2020-06-30 16:53:...|\n",
      "|  TSLA| 1075.95|         17|       100|2020-06-30 16:53:...|\n",
      "|  TSLA| 1075.96|         17|        50|2020-06-30 16:53:...|\n",
      "|  TSLA| 1075.88|         17|        20|2020-06-30 16:53:...|\n",
      "+------+--------+-----------+----------+--------------------+\n",
      "only showing top 20 rows\n",
      "\n"
     ]
    },
    {
     "data": {
      "text/plain": [
       "TSLA: Unit = ()\n"
      ]
     },
     "execution_count": 4,
     "metadata": {},
     "output_type": "execute_result"
    }
   ],
   "source": [
    "val TSLA = temp2.filter(\"ticker == 'TSLA'\").sort(desc(\"date_time\")).show"
   ]
  },
  {
   "cell_type": "code",
   "execution_count": 5,
   "metadata": {},
   "outputs": [
    {
     "name": "stdout",
     "output_type": "stream",
     "text": [
      "+------+-------+-----------+----------+--------------------+\n",
      "|ticker|  price|exchange_id|trade_size|           date_time|\n",
      "+------+-------+-----------+----------+--------------------+\n",
      "|  MSFT| 201.25|          3|         9|2020-06-30 17:01:...|\n",
      "|  MSFT|201.325|         15|       100|2020-06-30 17:01:...|\n",
      "|  MSFT|201.145|         15|        20|2020-06-30 16:53:...|\n",
      "|  MSFT| 201.16|         15|         3|2020-06-30 16:53:...|\n",
      "|  MSFT| 201.16|         15|       500|2020-06-30 16:53:...|\n",
      "|  MSFT| 201.15|         15|       500|2020-06-30 16:53:...|\n",
      "|  MSFT| 201.15|         15|       100|2020-06-30 16:53:...|\n",
      "|  MSFT|201.115|         15|       150|2020-06-30 16:53:...|\n",
      "|  MSFT|201.135|         15|      7100|2020-06-30 16:53:...|\n",
      "|  MSFT| 201.16|         15|       100|2020-06-30 16:53:...|\n",
      "|  MSFT|201.165|         15|         7|2020-06-30 16:53:...|\n",
      "|  MSFT|201.185|         15|         2|2020-06-30 16:53:...|\n",
      "|  MSFT|201.185|         15|        10|2020-06-30 16:53:...|\n",
      "|  MSFT|  201.4|          9|      7500|2020-06-30 16:53:...|\n",
      "|  MSFT|201.195|         15|         1|2020-06-30 16:53:...|\n",
      "|  MSFT|201.195|         15|         2|2020-06-30 16:53:...|\n",
      "|  MSFT| 201.16|          3|         1|2020-06-30 16:53:...|\n",
      "|  MSFT|201.165|         15|       200|2020-06-30 16:53:...|\n",
      "|  MSFT|201.165|         15|       600|2020-06-30 16:53:...|\n",
      "|  MSFT| 201.17|         17|       100|2020-06-30 16:53:...|\n",
      "+------+-------+-----------+----------+--------------------+\n",
      "only showing top 20 rows\n",
      "\n"
     ]
    },
    {
     "data": {
      "text/plain": [
       "MSFT: Unit = ()\n"
      ]
     },
     "execution_count": 5,
     "metadata": {},
     "output_type": "execute_result"
    }
   ],
   "source": [
    "val MSFT = temp2.filter(\"ticker == 'MSFT'\").sort(desc(\"date_time\")).show"
   ]
  },
  {
   "cell_type": "code",
   "execution_count": null,
   "metadata": {},
   "outputs": [],
   "source": []
  }
 ],
 "metadata": {
  "kernelspec": {
   "display_name": "spylon-kernel",
   "language": "scala",
   "name": "spylon-kernel"
  },
  "language_info": {
   "codemirror_mode": "text/x-scala",
   "file_extension": ".scala",
   "help_links": [
    {
     "text": "MetaKernel Magics",
     "url": "https://metakernel.readthedocs.io/en/latest/source/README.html"
    }
   ],
   "mimetype": "text/x-scala",
   "name": "scala",
   "pygments_lexer": "scala",
   "version": "0.4.1"
  }
 },
 "nbformat": 4,
 "nbformat_minor": 2
}
