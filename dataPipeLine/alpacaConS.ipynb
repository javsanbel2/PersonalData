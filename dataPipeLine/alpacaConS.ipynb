{
 "cells": [
  {
   "cell_type": "code",
   "execution_count": 5,
   "metadata": {},
   "outputs": [
    {
     "name": "stdout",
     "output_type": "stream",
     "text": [
      "root\n",
      " |-- key: binary (nullable = true)\n",
      " |-- value: binary (nullable = true)\n",
      " |-- topic: string (nullable = true)\n",
      " |-- partition: integer (nullable = true)\n",
      " |-- offset: long (nullable = true)\n",
      " |-- timestamp: timestamp (nullable = true)\n",
      " |-- timestampType: integer (nullable = true)\n",
      "\n"
     ]
    },
    {
     "data": {
      "text/plain": [
       "df: org.apache.spark.sql.DataFrame = [key: binary, value: binary ... 5 more fields]\n"
      ]
     },
     "execution_count": 5,
     "metadata": {},
     "output_type": "execute_result"
    }
   ],
   "source": [
    "val df = spark\n",
    "  .read\n",
    "  .format(\"kafka\")\n",
    "  .option(\"kafka.bootstrap.servers\", \"localhost:9092\")\n",
    "  .option(\"subscribe\", \"stockData\")\n",
    "  .load()\n",
    "df.printSchema"
   ]
  },
  {
   "cell_type": "code",
   "execution_count": 21,
   "metadata": {},
   "outputs": [
    {
     "data": {
      "text/plain": [
       "selectDF: org.apache.spark.sql.DataFrame = [ticker: string, price: int ... 3 more fields]\n"
      ]
     },
     "execution_count": 21,
     "metadata": {},
     "output_type": "execute_result"
    }
   ],
   "source": [
    "val selectDF = df.select(get_json_object(($\"value\").cast(\"string\"),\"$.data.T\").alias(\"ticker\").cast(\"String\"),\n",
    "                         get_json_object(($\"value\").cast(\"string\"),\"$.data.p\").alias(\"price\").cast(\"Int\"),\n",
    "                         get_json_object(($\"value\").cast(\"string\"),\"$.data.x\").alias(\"exchnage_id\").cast(\"Int\"),\n",
    "                         get_json_object(($\"value\").cast(\"string\"),\"$.data.s\").alias(\"trade_size\").cast(\"Int\"),\n",
    "                         get_json_object(($\"value\").cast(\"string\"),\"$.data.t\").alias(\"date_time\").cast(\"Long\"))\n"
   ]
  },
  {
   "cell_type": "code",
   "execution_count": 22,
   "metadata": {},
   "outputs": [
    {
     "name": "stdout",
     "output_type": "stream",
     "text": [
      "+------+-----+-----------+----------+--------------------+\n",
      "|ticker|price|exchnage_id|trade_size|           date_time|\n",
      "+------+-----+-----------+----------+--------------------+\n",
      "|  TSLA|  990|          2|       100|2020-06-26 13:55:...|\n",
      "|   SPY|  302|          3|        99|2020-06-26 15:21:...|\n",
      "|   SPY|  302|          2|       100|2020-06-26 15:21:...|\n",
      "|   SPY|  302|          2|         1|2020-06-26 15:21:...|\n",
      "|   SPY|  302|          2|       400|2020-06-26 15:21:...|\n",
      "|   SPY|  302|         17|         1|2020-06-26 15:21:...|\n",
      "|   SPY|  302|         17|         1|2020-06-26 15:21:...|\n",
      "|   SPY|  302|         17|      1300|2020-06-26 15:21:...|\n",
      "|   SPY|  302|          2|         4|2020-06-26 15:21:...|\n",
      "|   SPY|  302|          2|        20|2020-06-26 15:21:...|\n",
      "|   SPY|  302|          2|         4|2020-06-26 15:21:...|\n",
      "|   SPY|  302|         17|         1|2020-06-26 15:21:...|\n",
      "|   SPY|  302|          9|       100|2020-06-26 15:21:...|\n",
      "|   SPY|  302|          2|       400|2020-06-26 15:21:...|\n",
      "|   SPY|  302|          2|       400|2020-06-26 15:21:...|\n",
      "|   SPY|  302|         17|       100|2020-06-26 15:21:...|\n",
      "|   SPY|  302|         15|       100|2020-06-26 15:21:...|\n",
      "|   SPY|  302|         15|       100|2020-06-26 15:21:...|\n",
      "|   SPY|  302|         17|       100|2020-06-26 15:21:...|\n",
      "|   SPY|  302|         17|        12|2020-06-26 15:21:...|\n",
      "+------+-----+-----------+----------+--------------------+\n",
      "only showing top 20 rows\n",
      "\n"
     ]
    },
    {
     "data": {
      "text/plain": [
       "temp: org.apache.spark.sql.DataFrame = [ticker: string, price: int ... 3 more fields]\r\n",
       "temp2: org.apache.spark.sql.DataFrame = [ticker: string, price: int ... 3 more fields]\n"
      ]
     },
     "execution_count": 22,
     "metadata": {},
     "output_type": "execute_result"
    }
   ],
   "source": [
    "val temp = selectDF.na.drop()\n",
    "val temp2 = temp.withColumn(\"date_time\",(col(\"date_time\")/1000000000).cast(\"timestamp\"))\n",
    "temp2.show"
   ]
  },
  {
   "cell_type": "code",
   "execution_count": 23,
   "metadata": {},
   "outputs": [
    {
     "name": "stdout",
     "output_type": "stream",
     "text": [
      "+------+-----+-----------+----------+--------------------+\n",
      "|ticker|price|exchnage_id|trade_size|           date_time|\n",
      "+------+-----+-----------+----------+--------------------+\n",
      "|  AAPL|  356|         15|       100|2020-06-26 15:23:...|\n",
      "|  AAPL|  356|         15|       100|2020-06-26 15:23:...|\n",
      "|  AAPL|  356|         15|       100|2020-06-26 15:23:...|\n",
      "|  AAPL|  356|          2|        51|2020-06-26 15:23:...|\n",
      "|  AAPL|  355|         17|         6|2020-06-26 15:23:...|\n",
      "|  AAPL|  355|         15|       300|2020-06-26 15:23:...|\n",
      "|  AAPL|  355|         15|       100|2020-06-26 15:23:...|\n",
      "|  AAPL|  355|         17|       100|2020-06-26 15:23:...|\n",
      "|  AAPL|  355|         17|         5|2020-06-26 15:23:...|\n",
      "|  AAPL|  355|         17|       100|2020-06-26 15:23:...|\n",
      "|  AAPL|  356|         15|      1000|2020-06-26 15:23:...|\n",
      "|  AAPL|  355|         17|         5|2020-06-26 15:23:...|\n",
      "|  AAPL|  355|         15|       200|2020-06-26 15:23:...|\n",
      "|  AAPL|  355|         15|       100|2020-06-26 15:23:...|\n",
      "|  AAPL|  355|         15|       100|2020-06-26 15:23:...|\n",
      "|  AAPL|  355|         17|       100|2020-06-26 15:23:...|\n",
      "|  AAPL|  355|          2|       109|2020-06-26 15:23:...|\n",
      "|  AAPL|  355|          2|         7|2020-06-26 15:23:...|\n",
      "|  AAPL|  355|          2|       100|2020-06-26 15:23:...|\n",
      "|  AAPL|  355|          2|       260|2020-06-26 15:23:...|\n",
      "+------+-----+-----------+----------+--------------------+\n",
      "only showing top 20 rows\n",
      "\n"
     ]
    },
    {
     "data": {
      "text/plain": [
       "APPL: org.apache.spark.sql.Dataset[org.apache.spark.sql.Row] = [ticker: string, price: int ... 3 more fields]\n"
      ]
     },
     "execution_count": 23,
     "metadata": {},
     "output_type": "execute_result"
    }
   ],
   "source": [
    "val APPL = temp2.filter(\"ticker == 'AAPL'\")\n",
    "APPL.show"
   ]
  },
  {
   "cell_type": "code",
   "execution_count": 24,
   "metadata": {},
   "outputs": [
    {
     "name": "stdout",
     "output_type": "stream",
     "text": [
      "+------+-----+-----------+----------+--------------------+\n",
      "|ticker|price|exchnage_id|trade_size|           date_time|\n",
      "+------+-----+-----------+----------+--------------------+\n",
      "|  TSLA|  990|          2|       100|2020-06-26 13:55:...|\n",
      "|  TSLA|  969|          2|         9|2020-06-26 15:23:...|\n",
      "|  TSLA|  969|          3|         2|2020-06-26 15:23:...|\n",
      "|  TSLA|  968|         17|        50|2020-06-26 15:23:...|\n",
      "|  TSLA|  968|         17|         2|2020-06-26 15:23:...|\n",
      "|  TSLA|  968|         17|        30|2020-06-26 15:23:...|\n",
      "|  TSLA|  969|         17|       100|2020-06-26 15:23:...|\n",
      "|  TSLA|  969|         17|         3|2020-06-26 15:23:...|\n",
      "|  TSLA|  968|          3|       100|2020-06-26 15:23:...|\n",
      "|  TSLA|  968|         15|       100|2020-06-26 15:23:...|\n",
      "|  TSLA|  969|         17|       100|2020-06-26 15:23:...|\n",
      "|  TSLA|  969|          3|       100|2020-06-26 15:23:...|\n",
      "|  TSLA|  969|         15|        10|2020-06-26 15:23:...|\n",
      "|  TSLA|  969|          2|        24|2020-06-26 15:23:...|\n",
      "|  TSLA|  969|          2|        64|2020-06-26 15:23:...|\n",
      "|  TSLA|  969|          2|         3|2020-06-26 15:23:...|\n",
      "|  TSLA|  968|         17|       100|2020-06-26 15:23:...|\n",
      "|  TSLA|  968|         17|         1|2020-06-26 15:23:...|\n",
      "|  TSLA|  968|          3|       100|2020-06-26 15:23:...|\n",
      "|  TSLA|  969|         17|         2|2020-06-26 15:23:...|\n",
      "+------+-----+-----------+----------+--------------------+\n",
      "only showing top 20 rows\n",
      "\n"
     ]
    },
    {
     "data": {
      "text/plain": [
       "TSLA: org.apache.spark.sql.Dataset[org.apache.spark.sql.Row] = [ticker: string, price: int ... 3 more fields]\n"
      ]
     },
     "execution_count": 24,
     "metadata": {},
     "output_type": "execute_result"
    }
   ],
   "source": [
    "val TSLA = temp2.filter(\"ticker == 'TSLA'\")\n",
    "TSLA.show"
   ]
  },
  {
   "cell_type": "code",
   "execution_count": 25,
   "metadata": {},
   "outputs": [
    {
     "name": "stdout",
     "output_type": "stream",
     "text": [
      "+------+-----+-----------+----------+--------------------+\n",
      "|ticker|price|exchnage_id|trade_size|           date_time|\n",
      "+------+-----+-----------+----------+--------------------+\n",
      "|  MSFT|  196|         15|       200|2020-06-26 15:23:...|\n",
      "|  MSFT|  196|         17|         1|2020-06-26 15:23:...|\n",
      "|  MSFT|  196|          2|        10|2020-06-26 15:23:...|\n",
      "|  MSFT|  196|         17|         2|2020-06-26 15:23:...|\n",
      "|  MSFT|  196|         15|       182|2020-06-26 15:23:...|\n",
      "|  MSFT|  196|          2|         1|2020-06-26 15:23:...|\n",
      "|  MSFT|  196|         17|         1|2020-06-26 15:23:...|\n",
      "+------+-----+-----------+----------+--------------------+\n",
      "\n"
     ]
    },
    {
     "data": {
      "text/plain": [
       "MSFT: org.apache.spark.sql.Dataset[org.apache.spark.sql.Row] = [ticker: string, price: int ... 3 more fields]\n"
      ]
     },
     "execution_count": 25,
     "metadata": {},
     "output_type": "execute_result"
    }
   ],
   "source": [
    "val MSFT = temp2.filter(\"ticker == 'MSFT'\")\n",
    "MSFT.show"
   ]
  },
  {
   "cell_type": "code",
   "execution_count": 26,
   "metadata": {},
   "outputs": [
    {
     "name": "stdout",
     "output_type": "stream",
     "text": [
      "+------+-----+-----------+----------+--------------------+\n",
      "|ticker|price|exchnage_id|trade_size|           date_time|\n",
      "+------+-----+-----------+----------+--------------------+\n",
      "|   SPY|  302|          3|        99|2020-06-26 15:21:...|\n",
      "|   SPY|  302|          2|       100|2020-06-26 15:21:...|\n",
      "|   SPY|  302|          2|         1|2020-06-26 15:21:...|\n",
      "|   SPY|  302|          2|       400|2020-06-26 15:21:...|\n",
      "|   SPY|  302|         17|         1|2020-06-26 15:21:...|\n",
      "|   SPY|  302|         17|         1|2020-06-26 15:21:...|\n",
      "|   SPY|  302|         17|      1300|2020-06-26 15:21:...|\n",
      "|   SPY|  302|          2|         4|2020-06-26 15:21:...|\n",
      "|   SPY|  302|          2|        20|2020-06-26 15:21:...|\n",
      "|   SPY|  302|          2|         4|2020-06-26 15:21:...|\n",
      "|   SPY|  302|         17|         1|2020-06-26 15:21:...|\n",
      "|   SPY|  302|          9|       100|2020-06-26 15:21:...|\n",
      "|   SPY|  302|          2|       400|2020-06-26 15:21:...|\n",
      "|   SPY|  302|          2|       400|2020-06-26 15:21:...|\n",
      "|   SPY|  302|         17|       100|2020-06-26 15:21:...|\n",
      "|   SPY|  302|         15|       100|2020-06-26 15:21:...|\n",
      "|   SPY|  302|         15|       100|2020-06-26 15:21:...|\n",
      "|   SPY|  302|         17|       100|2020-06-26 15:21:...|\n",
      "|   SPY|  302|         17|        12|2020-06-26 15:21:...|\n",
      "|   SPY|  302|         17|       100|2020-06-26 15:21:...|\n",
      "+------+-----+-----------+----------+--------------------+\n",
      "only showing top 20 rows\n",
      "\n"
     ]
    },
    {
     "data": {
      "text/plain": [
       "SPY: org.apache.spark.sql.Dataset[org.apache.spark.sql.Row] = [ticker: string, price: int ... 3 more fields]\n"
      ]
     },
     "execution_count": 26,
     "metadata": {},
     "output_type": "execute_result"
    }
   ],
   "source": [
    "val SPY = temp2.filter(\"ticker == 'SPY'\")\n",
    "SPY.show"
   ]
  },
  {
   "cell_type": "code",
   "execution_count": null,
   "metadata": {},
   "outputs": [],
   "source": []
  }
 ],
 "metadata": {
  "kernelspec": {
   "display_name": "spylon-kernel",
   "language": "scala",
   "name": "spylon-kernel"
  },
  "language_info": {
   "codemirror_mode": "text/x-scala",
   "file_extension": ".scala",
   "help_links": [
    {
     "text": "MetaKernel Magics",
     "url": "https://metakernel.readthedocs.io/en/latest/source/README.html"
    }
   ],
   "mimetype": "text/x-scala",
   "name": "scala",
   "pygments_lexer": "scala",
   "version": "0.4.1"
  }
 },
 "nbformat": 4,
 "nbformat_minor": 2
}
