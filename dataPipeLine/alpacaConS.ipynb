{
 "cells": [
  {
   "cell_type": "code",
   "execution_count": 53,
   "metadata": {},
   "outputs": [
    {
     "name": "stdout",
     "output_type": "stream",
     "text": [
      "root\n",
      " |-- key: binary (nullable = true)\n",
      " |-- value: binary (nullable = true)\n",
      " |-- topic: string (nullable = true)\n",
      " |-- partition: integer (nullable = true)\n",
      " |-- offset: long (nullable = true)\n",
      " |-- timestamp: timestamp (nullable = true)\n",
      " |-- timestampType: integer (nullable = true)\n",
      "\n"
     ]
    },
    {
     "data": {
      "text/plain": [
       "df: org.apache.spark.sql.DataFrame = [key: binary, value: binary ... 5 more fields]\n"
      ]
     },
     "execution_count": 53,
     "metadata": {},
     "output_type": "execute_result"
    }
   ],
   "source": [
    "val df = spark\n",
    "  .read\n",
    "  .format(\"kafka\")\n",
    "  .option(\"kafka.bootstrap.servers\", \"localhost:9092\")\n",
    "  .option(\"subscribe\", \"spyData\")\n",
    "  .load()\n",
    "df.printSchema"
   ]
  },
  {
   "cell_type": "code",
   "execution_count": 2,
   "metadata": {},
   "outputs": [
    {
     "name": "stdout",
     "output_type": "stream",
     "text": [
      "root\n",
      " |-- key: binary (nullable = true)\n",
      " |-- value: binary (nullable = true)\n",
      " |-- topic: string (nullable = true)\n",
      " |-- partition: integer (nullable = true)\n",
      " |-- offset: long (nullable = true)\n",
      " |-- timestamp: timestamp (nullable = true)\n",
      " |-- timestampType: integer (nullable = true)\n",
      "\n"
     ]
    }
   ],
   "source": [
    "val selectDF = df.select(get_json_object(($\"value\").cast(\"string\"),\"$.data.p\").alias(\"price\").cast(\"Int\"),\n",
    "                         get_json_object(($\"value\").cast(\"string\"),\"$.data.T\").alias(\"ticker\").cast(\"String\"),\n",
    "                         get_json_object(($\"value\").cast(\"string\"),\"$.data.x\").alias(\"exchnage_id\").cast(\"Int\"),\n",
    "                         get_json_object(($\"value\").cast(\"string\"),\"$.data.s\").alias(\"trade_size\").cast(\"Int\"),\n",
    "                         get_json_object(($\"value\").cast(\"string\"),\"$.data.t\").alias(\"date_time\").cast(\"Long\"))\n"
   ]
  },
  {
   "cell_type": "code",
   "execution_count": 54,
   "metadata": {},
   "outputs": [
    {
     "name": "stdout",
     "output_type": "stream",
     "text": [
      "+-----+------+-----------+----------+--------------------+\n",
      "|price|ticker|exchnage_id|trade_size|           date_time|\n",
      "+-----+------+-----------+----------+--------------------+\n",
      "|  304|   SPY|         15|        10|2020-06-24 18:09:...|\n",
      "|  305|   SPY|         15|       100|2020-06-24 18:10:...|\n",
      "|  305|   SPY|          2|         1|2020-06-24 18:10:...|\n",
      "|  305|   SPY|         15|       100|2020-06-24 18:10:...|\n",
      "|  305|   SPY|         17|       100|2020-06-24 18:11:...|\n",
      "|  305|   SPY|         15|        10|2020-06-24 18:11:...|\n",
      "|  305|   SPY|         15|       100|2020-06-24 18:11:...|\n",
      "|  305|   SPY|         15|       100|2020-06-24 18:11:...|\n",
      "|  305|   SPY|         17|        10|2020-06-24 18:19:...|\n",
      "|  305|   SPY|         17|        21|2020-06-24 18:19:...|\n",
      "|  305|   SPY|         17|        21|2020-06-24 18:19:...|\n",
      "|  305|   SPY|         17|       100|2020-06-24 18:19:...|\n",
      "|  305|   SPY|         17|       100|2020-06-24 18:19:...|\n",
      "|  305|   SPY|         17|        14|2020-06-24 18:19:...|\n",
      "|  305|   SPY|          3|       100|2020-06-24 18:19:...|\n",
      "|  305|   SPY|         17|       100|2020-06-24 18:19:...|\n",
      "|  305|   SPY|         17|        15|2020-06-24 18:19:...|\n",
      "|  304|   SPY|         17|       100|2020-06-24 18:24:...|\n",
      "|  304|   SPY|         15|       100|2020-06-24 18:24:...|\n",
      "|  304|   SPY|         15|       100|2020-06-24 18:24:...|\n",
      "+-----+------+-----------+----------+--------------------+\n",
      "only showing top 20 rows\n",
      "\n"
     ]
    },
    {
     "data": {
      "text/plain": [
       "temp: org.apache.spark.sql.DataFrame = [price: int, ticker: string ... 3 more fields]\r\n",
       "temp2: org.apache.spark.sql.DataFrame = [price: int, ticker: string ... 3 more fields]\n"
      ]
     },
     "execution_count": 54,
     "metadata": {},
     "output_type": "execute_result"
    }
   ],
   "source": [
    "val temp = selectDF.na.drop()\n",
    "val temp2 = temp.withColumn(\"date_time\",(col(\"date_time\")/1000000000).cast(\"timestamp\"))\n",
    "temp2.show"
   ]
  },
  {
   "cell_type": "code",
   "execution_count": 55,
   "metadata": {},
   "outputs": [
    {
     "name": "stdout",
     "output_type": "stream",
     "text": [
      "+-----------+-----+\n",
      "|exchnage_id|count|\n",
      "+-----------+-----+\n",
      "|          3|   14|\n",
      "|         15|   20|\n",
      "|         17|   45|\n",
      "|          9|    3|\n",
      "|          2|   25|\n",
      "+-----------+-----+\n",
      "\n"
     ]
    },
    {
     "data": {
      "text/plain": [
       "groupBy_exchangeID: org.apache.spark.sql.DataFrame = [exchnage_id: int, count: bigint]\n"
      ]
     },
     "execution_count": 55,
     "metadata": {},
     "output_type": "execute_result"
    }
   ],
   "source": [
    "val groupBy_exchangeID = temp2.select(col(\"price\"),col(\"exchnage_id\"),col(\"date_time\"))\n",
    "                        .groupBy(\"exchnage_id\").count\n",
    "groupBy_exchangeID.show()"
   ]
  },
  {
   "cell_type": "code",
   "execution_count": null,
   "metadata": {},
   "outputs": [],
   "source": []
  }
 ],
 "metadata": {
  "kernelspec": {
   "display_name": "spylon-kernel",
   "language": "scala",
   "name": "spylon-kernel"
  },
  "language_info": {
   "codemirror_mode": "text/x-scala",
   "file_extension": ".scala",
   "help_links": [
    {
     "text": "MetaKernel Magics",
     "url": "https://metakernel.readthedocs.io/en/latest/source/README.html"
    }
   ],
   "mimetype": "text/x-scala",
   "name": "scala",
   "pygments_lexer": "scala",
   "version": "0.4.1"
  }
 },
 "nbformat": 4,
 "nbformat_minor": 2
}
