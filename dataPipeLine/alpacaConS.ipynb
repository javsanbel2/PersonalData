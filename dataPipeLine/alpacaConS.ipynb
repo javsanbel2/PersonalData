{
 "cells": [
  {
   "cell_type": "code",
   "execution_count": 38,
   "metadata": {},
   "outputs": [
    {
     "name": "stdout",
     "output_type": "stream",
     "text": [
      "root\n",
      " |-- key: binary (nullable = true)\n",
      " |-- value: binary (nullable = true)\n",
      " |-- topic: string (nullable = true)\n",
      " |-- partition: integer (nullable = true)\n",
      " |-- offset: long (nullable = true)\n",
      " |-- timestamp: timestamp (nullable = true)\n",
      " |-- timestampType: integer (nullable = true)\n",
      "\n"
     ]
    },
    {
     "data": {
      "text/plain": [
       "df: org.apache.spark.sql.DataFrame = [key: binary, value: binary ... 5 more fields]\n"
      ]
     },
     "execution_count": 38,
     "metadata": {},
     "output_type": "execute_result"
    }
   ],
   "source": [
    "val df = spark\n",
    "  .read\n",
    "  .format(\"kafka\")\n",
    "  .option(\"kafka.bootstrap.servers\", \"localhost:9092\")\n",
    "  .option(\"subscribe\", \"stockData\")\n",
    "  .load()\n",
    "df.printSchema"
   ]
  },
  {
   "cell_type": "code",
   "execution_count": 39,
   "metadata": {},
   "outputs": [
    {
     "data": {
      "text/plain": [
       "selectDF: org.apache.spark.sql.DataFrame = [ticker: string, price: int ... 3 more fields]\n"
      ]
     },
     "execution_count": 39,
     "metadata": {},
     "output_type": "execute_result"
    }
   ],
   "source": [
    "val selectDF = df.select(get_json_object(($\"value\").cast(\"string\"),\"$.data.T\").alias(\"ticker\").cast(\"String\"),\n",
    "                         get_json_object(($\"value\").cast(\"string\"),\"$.data.p\").alias(\"price\").cast(\"Int\"),\n",
    "                         get_json_object(($\"value\").cast(\"string\"),\"$.data.x\").alias(\"exchnage_id\").cast(\"Int\"),\n",
    "                         get_json_object(($\"value\").cast(\"string\"),\"$.data.s\").alias(\"trade_size\").cast(\"Int\"),\n",
    "                         get_json_object(($\"value\").cast(\"string\"),\"$.data.t\").alias(\"date_time\").cast(\"Long\"))\n"
   ]
  },
  {
   "cell_type": "code",
   "execution_count": 40,
   "metadata": {},
   "outputs": [
    {
     "name": "stdout",
     "output_type": "stream",
     "text": [
      "+------+-----+-----------+----------+--------------------+\n",
      "|ticker|price|exchnage_id|trade_size|           date_time|\n",
      "+------+-----+-----------+----------+--------------------+\n",
      "|  TSLA|  990|          2|       100|2020-06-26 13:55:...|\n",
      "|   SPY|  302|          3|        99|2020-06-26 15:21:...|\n",
      "|   SPY|  302|          2|       100|2020-06-26 15:21:...|\n",
      "|   SPY|  302|          2|         1|2020-06-26 15:21:...|\n",
      "|   SPY|  302|          2|       400|2020-06-26 15:21:...|\n",
      "|   SPY|  302|         17|         1|2020-06-26 15:21:...|\n",
      "|   SPY|  302|         17|         1|2020-06-26 15:21:...|\n",
      "|   SPY|  302|         17|      1300|2020-06-26 15:21:...|\n",
      "|   SPY|  302|          2|         4|2020-06-26 15:21:...|\n",
      "|   SPY|  302|          2|        20|2020-06-26 15:21:...|\n",
      "|   SPY|  302|          2|         4|2020-06-26 15:21:...|\n",
      "|   SPY|  302|         17|         1|2020-06-26 15:21:...|\n",
      "|   SPY|  302|          9|       100|2020-06-26 15:21:...|\n",
      "|   SPY|  302|          2|       400|2020-06-26 15:21:...|\n",
      "|   SPY|  302|          2|       400|2020-06-26 15:21:...|\n",
      "|   SPY|  302|         17|       100|2020-06-26 15:21:...|\n",
      "|   SPY|  302|         15|       100|2020-06-26 15:21:...|\n",
      "|   SPY|  302|         15|       100|2020-06-26 15:21:...|\n",
      "|   SPY|  302|         17|       100|2020-06-26 15:21:...|\n",
      "|   SPY|  302|         17|        12|2020-06-26 15:21:...|\n",
      "+------+-----+-----------+----------+--------------------+\n",
      "only showing top 20 rows\n",
      "\n"
     ]
    },
    {
     "data": {
      "text/plain": [
       "temp: org.apache.spark.sql.DataFrame = [ticker: string, price: int ... 3 more fields]\r\n",
       "temp2: org.apache.spark.sql.DataFrame = [ticker: string, price: int ... 3 more fields]\n"
      ]
     },
     "execution_count": 40,
     "metadata": {},
     "output_type": "execute_result"
    }
   ],
   "source": [
    "val temp = selectDF.na.drop()\n",
    "val temp2 = temp.withColumn(\"date_time\",(col(\"date_time\")/1000000000).cast(\"timestamp\"))\n",
    "temp2.show"
   ]
  },
  {
   "cell_type": "code",
   "execution_count": 48,
   "metadata": {},
   "outputs": [
    {
     "name": "stdout",
     "output_type": "stream",
     "text": [
      "+------+-----+-----------+----------+--------------------+\n",
      "|ticker|price|exchnage_id|trade_size|           date_time|\n",
      "+------+-----+-----------+----------+--------------------+\n",
      "|  AAPL|  358|         15|        52|2020-06-26 16:23:...|\n",
      "|  AAPL|  358|         15|       200|2020-06-26 16:23:...|\n",
      "|  AAPL|  358|         15|       200|2020-06-26 16:23:...|\n",
      "|  AAPL|  358|          2|       100|2020-06-26 16:23:...|\n",
      "|  AAPL|  358|          2|         2|2020-06-26 16:23:...|\n",
      "|  AAPL|  358|          2|        12|2020-06-26 16:23:...|\n",
      "|  AAPL|  358|         15|        25|2020-06-26 16:23:...|\n",
      "|  AAPL|  358|         17|         2|2020-06-26 16:23:...|\n",
      "|  AAPL|  358|         15|        52|2020-06-26 16:23:...|\n",
      "|  AAPL|  358|         15|       100|2020-06-26 16:23:...|\n",
      "|  AAPL|  358|         15|       100|2020-06-26 16:23:...|\n",
      "|  AAPL|  358|         15|        51|2020-06-26 16:23:...|\n",
      "|  AAPL|  358|         15|        50|2020-06-26 16:23:...|\n",
      "|  AAPL|  358|         15|       300|2020-06-26 16:23:...|\n",
      "|  AAPL|  358|         15|       200|2020-06-26 16:23:...|\n",
      "|  AAPL|  358|          2|         2|2020-06-26 16:23:...|\n",
      "|  AAPL|  358|         15|       300|2020-06-26 16:23:...|\n",
      "|  AAPL|  358|         15|       200|2020-06-26 16:23:...|\n",
      "|  AAPL|  358|         15|        50|2020-06-26 16:23:...|\n",
      "|  AAPL|  358|         15|        20|2020-06-26 16:23:...|\n",
      "+------+-----+-----------+----------+--------------------+\n",
      "only showing top 20 rows\n",
      "\n"
     ]
    },
    {
     "data": {
      "text/plain": [
       "APPL: Unit = ()\n"
      ]
     },
     "execution_count": 48,
     "metadata": {},
     "output_type": "execute_result"
    }
   ],
   "source": [
    "val APPL = temp2.filter(\"ticker == 'AAPL'\").sort(desc(\"date_time\")).show"
   ]
  },
  {
   "cell_type": "code",
   "execution_count": 49,
   "metadata": {},
   "outputs": [
    {
     "name": "stdout",
     "output_type": "stream",
     "text": [
      "+------+-----+-----------+----------+--------------------+\n",
      "|ticker|price|exchnage_id|trade_size|           date_time|\n",
      "+------+-----+-----------+----------+--------------------+\n",
      "|  TSLA|  968|          3|         1|2020-06-26 16:23:...|\n",
      "|  TSLA|  969|          2|        20|2020-06-26 16:23:...|\n",
      "|  TSLA|  969|         17|        46|2020-06-26 16:23:...|\n",
      "|  TSLA|  969|         17|        54|2020-06-26 16:23:...|\n",
      "|  TSLA|  968|          2|        25|2020-06-26 16:22:...|\n",
      "|  TSLA|  969|         17|         1|2020-06-26 16:22:...|\n",
      "|  TSLA|  970|         15|       100|2020-06-26 16:22:...|\n",
      "|  TSLA|  970|          3|         8|2020-06-26 16:21:...|\n",
      "|  TSLA|  970|          3|         2|2020-06-26 16:21:...|\n",
      "|  TSLA|  970|          3|         2|2020-06-26 16:21:...|\n",
      "|  TSLA|  970|          3|         8|2020-06-26 16:21:...|\n",
      "|  TSLA|  970|         17|         1|2020-06-26 16:21:...|\n",
      "|  TSLA|  970|          3|        10|2020-06-26 16:21:...|\n",
      "|  TSLA|  970|          3|        25|2020-06-26 16:21:...|\n",
      "|  TSLA|  969|         17|       100|2020-06-26 16:21:...|\n",
      "|  TSLA|  969|          3|        40|2020-06-26 16:21:...|\n",
      "|  TSLA|  970|          3|        14|2020-06-26 16:21:...|\n",
      "|  TSLA|  968|         17|        12|2020-06-26 16:19:...|\n",
      "|  TSLA|  968|          2|         2|2020-06-26 16:19:...|\n",
      "|  TSLA|  968|         17|         2|2020-06-26 16:19:...|\n",
      "+------+-----+-----------+----------+--------------------+\n",
      "only showing top 20 rows\n",
      "\n"
     ]
    },
    {
     "data": {
      "text/plain": [
       "TSLA: Unit = ()\n"
      ]
     },
     "execution_count": 49,
     "metadata": {},
     "output_type": "execute_result"
    }
   ],
   "source": [
    "val TSLA = temp2.filter(\"ticker == 'TSLA'\").sort(desc(\"date_time\")).show"
   ]
  },
  {
   "cell_type": "code",
   "execution_count": 50,
   "metadata": {},
   "outputs": [
    {
     "name": "stdout",
     "output_type": "stream",
     "text": [
      "+------+-----+-----------+----------+--------------------+\n",
      "|ticker|price|exchnage_id|trade_size|           date_time|\n",
      "+------+-----+-----------+----------+--------------------+\n",
      "|  MSFT|  196|          2|       100|2020-06-26 16:23:...|\n",
      "|  MSFT|  196|         17|         1|2020-06-26 16:23:...|\n",
      "|  MSFT|  196|         17|         2|2020-06-26 16:23:...|\n",
      "|  MSFT|  196|         17|         1|2020-06-26 16:23:...|\n",
      "|  MSFT|  196|         17|         1|2020-06-26 16:23:...|\n",
      "|  MSFT|  196|         17|         1|2020-06-26 16:23:...|\n",
      "|  MSFT|  196|         17|        22|2020-06-26 16:23:...|\n",
      "|  MSFT|  196|         15|       100|2020-06-26 16:23:...|\n",
      "|  MSFT|  196|         15|       100|2020-06-26 16:23:...|\n",
      "|  MSFT|  196|         15|        90|2020-06-26 16:23:...|\n",
      "|  MSFT|  196|         15|       100|2020-06-26 16:23:...|\n",
      "|  MSFT|  196|         15|        10|2020-06-26 16:23:...|\n",
      "|  MSFT|  196|         15|       100|2020-06-26 16:23:...|\n",
      "|  MSFT|  196|         17|         2|2020-06-26 16:22:...|\n",
      "|  MSFT|  196|         17|         2|2020-06-26 16:22:...|\n",
      "|  MSFT|  196|         15|      2476|2020-06-26 16:22:...|\n",
      "|  MSFT|  196|         15|      2610|2020-06-26 16:22:...|\n",
      "|  MSFT|  196|         15|       400|2020-06-26 16:22:...|\n",
      "|  MSFT|  196|         15|       300|2020-06-26 16:22:...|\n",
      "|  MSFT|  196|         17|         1|2020-06-26 16:22:...|\n",
      "+------+-----+-----------+----------+--------------------+\n",
      "only showing top 20 rows\n",
      "\n"
     ]
    },
    {
     "data": {
      "text/plain": [
       "MSFT: Unit = ()\n"
      ]
     },
     "execution_count": 50,
     "metadata": {},
     "output_type": "execute_result"
    }
   ],
   "source": [
    "val MSFT = temp2.filter(\"ticker == 'MSFT'\").sort(desc(\"date_time\")).show"
   ]
  },
  {
   "cell_type": "code",
   "execution_count": null,
   "metadata": {},
   "outputs": [],
   "source": []
  }
 ],
 "metadata": {
  "kernelspec": {
   "display_name": "spylon-kernel",
   "language": "scala",
   "name": "spylon-kernel"
  },
  "language_info": {
   "codemirror_mode": "text/x-scala",
   "file_extension": ".scala",
   "help_links": [
    {
     "text": "MetaKernel Magics",
     "url": "https://metakernel.readthedocs.io/en/latest/source/README.html"
    }
   ],
   "mimetype": "text/x-scala",
   "name": "scala",
   "pygments_lexer": "scala",
   "version": "0.4.1"
  }
 },
 "nbformat": 4,
 "nbformat_minor": 2
}
